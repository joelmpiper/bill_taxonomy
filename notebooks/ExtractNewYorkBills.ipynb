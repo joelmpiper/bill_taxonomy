{
 "cells": [
  {
   "cell_type": "markdown",
   "metadata": {},
   "source": [
    "### Need to loop over all of the legislation (10,000s) by 1,000 at a time. Extract the bill IDs, and then extract the bill text one-by-one. After retrieving the bill text, store it to a database on AWS with some associated metadata.\n",
    "\n",
    "### Then, I will need to figure out how to do that for the U.S. Congress. Use the U.S. Congress bill text as the training data, with the given subject terms, and use that to train. See how well that predicts other bills in the U.S. congress and use that model for the New York legislation. Go through a subset of the new york data and see if there are keywords or other information that can be used to hand label. Also, use the given terms to use as a broader base of keywords for labeling the U.S. data. Also, try running in an unsupervised setting to see how the data clusters."
   ]
  },
  {
   "cell_type": "code",
   "execution_count": 1,
   "metadata": {
    "collapsed": false
   },
   "outputs": [],
   "source": [
    "import requests\n",
    "my_key = open('/Users/Joel/Documents/insight/ny_bill_keys.txt', 'r').readline().strip()"
   ]
  },
  {
   "cell_type": "code",
   "execution_count": 2,
   "metadata": {
    "collapsed": true
   },
   "outputs": [],
   "source": [
    "import time"
   ]
  },
  {
   "cell_type": "code",
   "execution_count": 3,
   "metadata": {
    "collapsed": true
   },
   "outputs": [],
   "source": [
    "# Set up the database to save the results of the new york bill table\n",
    "# There will be one table for the New York bills and one for U.S. bills\n",
    "## Python packages - you may have to pip install sqlalchemy, sqlalchemy_utils, and psycopg2.\n",
    "from sqlalchemy import create_engine\n",
    "from sqlalchemy_utils import database_exists, create_database\n",
    "import psycopg2\n",
    "import pandas as pd"
   ]
  },
  {
   "cell_type": "code",
   "execution_count": 4,
   "metadata": {
    "collapsed": false
   },
   "outputs": [
    {
     "name": "stdout",
     "output_type": "stream",
     "text": [
      "postgres://Joel@localhost/bills_db\n",
      "True\n"
     ]
    }
   ],
   "source": [
    "#In Python: Define a database name\n",
    "dbname = 'bills_db'\n",
    "username = 'Joel'\n",
    "## 'engine' is a connection to a database\n",
    "## Here, we're using postgres, but sqlalchemy can connect to other things too.\n",
    "engine = create_engine('postgres://%s@localhost/%s'%(username,dbname))\n",
    "print engine.url\n",
    "\n",
    "## create a database (if it doesn't exist)\n",
    "if not database_exists(engine.url):\n",
    "    create_database(engine.url)\n",
    "print(database_exists(engine.url))"
   ]
  },
  {
   "cell_type": "code",
   "execution_count": 5,
   "metadata": {
    "collapsed": true
   },
   "outputs": [],
   "source": [
    "from sqlalchemy.ext.declarative import declarative_base\n",
    "Base = declarative_base()"
   ]
  },
  {
   "cell_type": "code",
   "execution_count": 6,
   "metadata": {
    "collapsed": false
   },
   "outputs": [],
   "source": [
    "from sqlalchemy import Column, Integer, String\n",
    "class New_York_Bill(Base):\n",
    "    __tablename__ = 'ny_bills'\n",
    "    bill_num = Column(String, primary_key=True)\n",
    "    bill_name = Column(String)\n",
    "    bill_text = Column(String)\n",
    "\n",
    "    def __repr__(self):\n",
    "        return \"<New_York_Bill(bill_num='%s', bill_name='%s', bill_text='%s')>\" % (\n",
    "            self.bill_num, self.bill_name, self.bill_text)"
   ]
  },
  {
   "cell_type": "code",
   "execution_count": 7,
   "metadata": {
    "collapsed": false
   },
   "outputs": [],
   "source": [
    "ny_bills_table = New_York_Bill.__table__"
   ]
  },
  {
   "cell_type": "code",
   "execution_count": 8,
   "metadata": {
    "collapsed": true
   },
   "outputs": [],
   "source": [
    "# Actually create the table\n",
    "Base.metadata.create_all(engine)"
   ]
  },
  {
   "cell_type": "code",
   "execution_count": 9,
   "metadata": {
    "collapsed": true
   },
   "outputs": [],
   "source": [
    "from sqlalchemy.orm import sessionmaker\n",
    "Session = sessionmaker(bind=engine)\n",
    "session = Session()"
   ]
  },
  {
   "cell_type": "code",
   "execution_count": 10,
   "metadata": {
    "collapsed": false
   },
   "outputs": [],
   "source": [
    "#ny_bills_table.drop(engine)\n",
    "# This seems painful. Drop the table from the command line before running the command below."
   ]
  },
  {
   "cell_type": "code",
   "execution_count": 10,
   "metadata": {
    "collapsed": false
   },
   "outputs": [],
   "source": [
    "#requests.get('http://legislation.nysenate.gov/api/3/bills/2015/A02257?view=only_fullText&key=' + my_key).json()"
   ]
  },
  {
   "cell_type": "code",
   "execution_count": 11,
   "metadata": {
    "collapsed": false
   },
   "outputs": [
    {
     "name": "stdout",
     "output_type": "stream",
     "text": [
      "1\n",
      "1000\n",
      "2000\n",
      "3000\n",
      "4000\n",
      "5000\n"
     ]
    },
    {
     "ename": "ChunkedEncodingError",
     "evalue": "('Connection broken: IncompleteRead(186 bytes read, 326 more expected)', IncompleteRead(186 bytes read, 326 more expected))",
     "output_type": "error",
     "traceback": [
      "\u001b[0;31m---------------------------------------------------------------------------\u001b[0m",
      "\u001b[0;31mChunkedEncodingError\u001b[0m                      Traceback (most recent call last)",
      "\u001b[0;32m<ipython-input-11-ff72f1fa376e>\u001b[0m in \u001b[0;36m<module>\u001b[0;34m()\u001b[0m\n\u001b[1;32m     20\u001b[0m                                                                                                         \u001b[0moffset\u001b[0m\u001b[0;34m,\u001b[0m\u001b[0;34m\u001b[0m\u001b[0m\n\u001b[1;32m     21\u001b[0m                                                                                                         key)\n\u001b[0;32m---> 22\u001b[0;31m     \u001b[0mall_bills\u001b[0m \u001b[0;34m=\u001b[0m \u001b[0mrequests\u001b[0m\u001b[0;34m.\u001b[0m\u001b[0mget\u001b[0m\u001b[0;34m(\u001b[0m\u001b[0mrequest_string\u001b[0m\u001b[0;34m)\u001b[0m\u001b[0;34m.\u001b[0m\u001b[0mjson\u001b[0m\u001b[0;34m(\u001b[0m\u001b[0;34m)\u001b[0m\u001b[0;34m\u001b[0m\u001b[0m\n\u001b[0m\u001b[1;32m     23\u001b[0m \u001b[0;34m\u001b[0m\u001b[0m\n\u001b[1;32m     24\u001b[0m     \u001b[0;32mif\u001b[0m \u001b[0;34m(\u001b[0m\u001b[0mall_bills\u001b[0m\u001b[0;34m[\u001b[0m\u001b[0;34m'responseType'\u001b[0m\u001b[0;34m]\u001b[0m \u001b[0;34m==\u001b[0m \u001b[0;34m'bill-info list'\u001b[0m\u001b[0;34m)\u001b[0m\u001b[0;34m:\u001b[0m\u001b[0;34m\u001b[0m\u001b[0m\n",
      "\u001b[0;32m/Users/Joel/anaconda/envs/insight/lib/python2.7/site-packages/requests/api.pyc\u001b[0m in \u001b[0;36mget\u001b[0;34m(url, params, **kwargs)\u001b[0m\n\u001b[1;32m     69\u001b[0m \u001b[0;34m\u001b[0m\u001b[0m\n\u001b[1;32m     70\u001b[0m     \u001b[0mkwargs\u001b[0m\u001b[0;34m.\u001b[0m\u001b[0msetdefault\u001b[0m\u001b[0;34m(\u001b[0m\u001b[0;34m'allow_redirects'\u001b[0m\u001b[0;34m,\u001b[0m \u001b[0mTrue\u001b[0m\u001b[0;34m)\u001b[0m\u001b[0;34m\u001b[0m\u001b[0m\n\u001b[0;32m---> 71\u001b[0;31m     \u001b[0;32mreturn\u001b[0m \u001b[0mrequest\u001b[0m\u001b[0;34m(\u001b[0m\u001b[0;34m'get'\u001b[0m\u001b[0;34m,\u001b[0m \u001b[0murl\u001b[0m\u001b[0;34m,\u001b[0m \u001b[0mparams\u001b[0m\u001b[0;34m=\u001b[0m\u001b[0mparams\u001b[0m\u001b[0;34m,\u001b[0m \u001b[0;34m**\u001b[0m\u001b[0mkwargs\u001b[0m\u001b[0;34m)\u001b[0m\u001b[0;34m\u001b[0m\u001b[0m\n\u001b[0m\u001b[1;32m     72\u001b[0m \u001b[0;34m\u001b[0m\u001b[0m\n\u001b[1;32m     73\u001b[0m \u001b[0;34m\u001b[0m\u001b[0m\n",
      "\u001b[0;32m/Users/Joel/anaconda/envs/insight/lib/python2.7/site-packages/requests/api.pyc\u001b[0m in \u001b[0;36mrequest\u001b[0;34m(method, url, **kwargs)\u001b[0m\n\u001b[1;32m     55\u001b[0m     \u001b[0;31m# cases, and look like a memory leak in others.\u001b[0m\u001b[0;34m\u001b[0m\u001b[0;34m\u001b[0m\u001b[0m\n\u001b[1;32m     56\u001b[0m     \u001b[0;32mwith\u001b[0m \u001b[0msessions\u001b[0m\u001b[0;34m.\u001b[0m\u001b[0mSession\u001b[0m\u001b[0;34m(\u001b[0m\u001b[0;34m)\u001b[0m \u001b[0;32mas\u001b[0m \u001b[0msession\u001b[0m\u001b[0;34m:\u001b[0m\u001b[0;34m\u001b[0m\u001b[0m\n\u001b[0;32m---> 57\u001b[0;31m         \u001b[0;32mreturn\u001b[0m \u001b[0msession\u001b[0m\u001b[0;34m.\u001b[0m\u001b[0mrequest\u001b[0m\u001b[0;34m(\u001b[0m\u001b[0mmethod\u001b[0m\u001b[0;34m=\u001b[0m\u001b[0mmethod\u001b[0m\u001b[0;34m,\u001b[0m \u001b[0murl\u001b[0m\u001b[0;34m=\u001b[0m\u001b[0murl\u001b[0m\u001b[0;34m,\u001b[0m \u001b[0;34m**\u001b[0m\u001b[0mkwargs\u001b[0m\u001b[0;34m)\u001b[0m\u001b[0;34m\u001b[0m\u001b[0m\n\u001b[0m\u001b[1;32m     58\u001b[0m \u001b[0;34m\u001b[0m\u001b[0m\n\u001b[1;32m     59\u001b[0m \u001b[0;34m\u001b[0m\u001b[0m\n",
      "\u001b[0;32m/Users/Joel/anaconda/envs/insight/lib/python2.7/site-packages/requests/sessions.pyc\u001b[0m in \u001b[0;36mrequest\u001b[0;34m(self, method, url, params, data, headers, cookies, files, auth, timeout, allow_redirects, proxies, hooks, stream, verify, cert, json)\u001b[0m\n\u001b[1;32m    473\u001b[0m         }\n\u001b[1;32m    474\u001b[0m         \u001b[0msend_kwargs\u001b[0m\u001b[0;34m.\u001b[0m\u001b[0mupdate\u001b[0m\u001b[0;34m(\u001b[0m\u001b[0msettings\u001b[0m\u001b[0;34m)\u001b[0m\u001b[0;34m\u001b[0m\u001b[0m\n\u001b[0;32m--> 475\u001b[0;31m         \u001b[0mresp\u001b[0m \u001b[0;34m=\u001b[0m \u001b[0mself\u001b[0m\u001b[0;34m.\u001b[0m\u001b[0msend\u001b[0m\u001b[0;34m(\u001b[0m\u001b[0mprep\u001b[0m\u001b[0;34m,\u001b[0m \u001b[0;34m**\u001b[0m\u001b[0msend_kwargs\u001b[0m\u001b[0;34m)\u001b[0m\u001b[0;34m\u001b[0m\u001b[0m\n\u001b[0m\u001b[1;32m    476\u001b[0m \u001b[0;34m\u001b[0m\u001b[0m\n\u001b[1;32m    477\u001b[0m         \u001b[0;32mreturn\u001b[0m \u001b[0mresp\u001b[0m\u001b[0;34m\u001b[0m\u001b[0m\n",
      "\u001b[0;32m/Users/Joel/anaconda/envs/insight/lib/python2.7/site-packages/requests/sessions.pyc\u001b[0m in \u001b[0;36msend\u001b[0;34m(self, request, **kwargs)\u001b[0m\n\u001b[1;32m    615\u001b[0m \u001b[0;34m\u001b[0m\u001b[0m\n\u001b[1;32m    616\u001b[0m         \u001b[0;32mif\u001b[0m \u001b[0;32mnot\u001b[0m \u001b[0mstream\u001b[0m\u001b[0;34m:\u001b[0m\u001b[0;34m\u001b[0m\u001b[0m\n\u001b[0;32m--> 617\u001b[0;31m             \u001b[0mr\u001b[0m\u001b[0;34m.\u001b[0m\u001b[0mcontent\u001b[0m\u001b[0;34m\u001b[0m\u001b[0m\n\u001b[0m\u001b[1;32m    618\u001b[0m \u001b[0;34m\u001b[0m\u001b[0m\n\u001b[1;32m    619\u001b[0m         \u001b[0;32mreturn\u001b[0m \u001b[0mr\u001b[0m\u001b[0;34m\u001b[0m\u001b[0m\n",
      "\u001b[0;32m/Users/Joel/anaconda/envs/insight/lib/python2.7/site-packages/requests/models.pyc\u001b[0m in \u001b[0;36mcontent\u001b[0;34m(self)\u001b[0m\n\u001b[1;32m    739\u001b[0m                     \u001b[0mself\u001b[0m\u001b[0;34m.\u001b[0m\u001b[0m_content\u001b[0m \u001b[0;34m=\u001b[0m \u001b[0mNone\u001b[0m\u001b[0;34m\u001b[0m\u001b[0m\n\u001b[1;32m    740\u001b[0m                 \u001b[0;32melse\u001b[0m\u001b[0;34m:\u001b[0m\u001b[0;34m\u001b[0m\u001b[0m\n\u001b[0;32m--> 741\u001b[0;31m                     \u001b[0mself\u001b[0m\u001b[0;34m.\u001b[0m\u001b[0m_content\u001b[0m \u001b[0;34m=\u001b[0m \u001b[0mbytes\u001b[0m\u001b[0;34m(\u001b[0m\u001b[0;34m)\u001b[0m\u001b[0;34m.\u001b[0m\u001b[0mjoin\u001b[0m\u001b[0;34m(\u001b[0m\u001b[0mself\u001b[0m\u001b[0;34m.\u001b[0m\u001b[0miter_content\u001b[0m\u001b[0;34m(\u001b[0m\u001b[0mCONTENT_CHUNK_SIZE\u001b[0m\u001b[0;34m)\u001b[0m\u001b[0;34m)\u001b[0m \u001b[0;32mor\u001b[0m \u001b[0mbytes\u001b[0m\u001b[0;34m(\u001b[0m\u001b[0;34m)\u001b[0m\u001b[0;34m\u001b[0m\u001b[0m\n\u001b[0m\u001b[1;32m    742\u001b[0m \u001b[0;34m\u001b[0m\u001b[0m\n\u001b[1;32m    743\u001b[0m             \u001b[0;32mexcept\u001b[0m \u001b[0mAttributeError\u001b[0m\u001b[0;34m:\u001b[0m\u001b[0;34m\u001b[0m\u001b[0m\n",
      "\u001b[0;32m/Users/Joel/anaconda/envs/insight/lib/python2.7/site-packages/requests/models.pyc\u001b[0m in \u001b[0;36mgenerate\u001b[0;34m()\u001b[0m\n\u001b[1;32m    665\u001b[0m                         \u001b[0;32myield\u001b[0m \u001b[0mchunk\u001b[0m\u001b[0;34m\u001b[0m\u001b[0m\n\u001b[1;32m    666\u001b[0m                 \u001b[0;32mexcept\u001b[0m \u001b[0mProtocolError\u001b[0m \u001b[0;32mas\u001b[0m \u001b[0me\u001b[0m\u001b[0;34m:\u001b[0m\u001b[0;34m\u001b[0m\u001b[0m\n\u001b[0;32m--> 667\u001b[0;31m                     \u001b[0;32mraise\u001b[0m \u001b[0mChunkedEncodingError\u001b[0m\u001b[0;34m(\u001b[0m\u001b[0me\u001b[0m\u001b[0;34m)\u001b[0m\u001b[0;34m\u001b[0m\u001b[0m\n\u001b[0m\u001b[1;32m    668\u001b[0m                 \u001b[0;32mexcept\u001b[0m \u001b[0mDecodeError\u001b[0m \u001b[0;32mas\u001b[0m \u001b[0me\u001b[0m\u001b[0;34m:\u001b[0m\u001b[0;34m\u001b[0m\u001b[0m\n\u001b[1;32m    669\u001b[0m                     \u001b[0;32mraise\u001b[0m \u001b[0mContentDecodingError\u001b[0m\u001b[0;34m(\u001b[0m\u001b[0me\u001b[0m\u001b[0;34m)\u001b[0m\u001b[0;34m\u001b[0m\u001b[0m\n",
      "\u001b[0;31mChunkedEncodingError\u001b[0m: ('Connection broken: IncompleteRead(186 bytes read, 326 more expected)', IncompleteRead(186 bytes read, 326 more expected))"
     ]
    }
   ],
   "source": [
    "# Run through a loop getting files 1,000 at a time until we receive all files\n",
    "offset = 0\n",
    "year = 2015\n",
    "limit = 1000\n",
    "#limit = 10\n",
    "key = my_key\n",
    "my_max = 50000\n",
    "#my_max = 50\n",
    "request_string = 'http://legislation.nysenate.gov/api/3/bills/{0}?limit={1}&offset={2}&key={3}'.format(year, \n",
    "                                                                                                        limit, \n",
    "                                                                                                        offset,\n",
    "                                                                                                        key)\n",
    "all_bills = requests.get(request_string).json()\n",
    "\n",
    "while ((all_bills['responseType'] == 'bill-info list') and offset < my_max):\n",
    "    print all_bills['offsetStart']\n",
    "    offset += limit\n",
    "    request_string = 'http://legislation.nysenate.gov/api/3/bills/{0}?limit={1}&offset={2}&key={3}'.format(year, \n",
    "                                                                                                        limit, \n",
    "                                                                                                        offset,\n",
    "                                                                                                        key)\n",
    "    all_bills = requests.get(request_string).json()\n",
    "    \n",
    "    if (all_bills['responseType'] == 'bill-info list'):\n",
    "        for bill in all_bills['result']['items']:\n",
    "            bill_num = bill['printNo']\n",
    "            single_request = 'http://legislation.nysenate.gov/api/3/bills/{0}/{1}?view=only_fullText&key={2}'.format(\n",
    "            year, bill_num, my_key)\n",
    "            bill_data = requests.get(single_request).json()\n",
    "            bill_text = bill_data['result']['fullText']\n",
    "            #print bill_num\n",
    "            #print bill['title']\n",
    "            #print bill\n",
    "            one_bill = New_York_Bill(bill_num=bill_num, bill_name=bill['title'], bill_text=bill_text)\n",
    "            session.add(one_bill)\n",
    "            time.sleep(1)\n",
    "            \n",
    "    time.sleep(2)\n",
    "session.commit()"
   ]
  },
  {
   "cell_type": "code",
   "execution_count": null,
   "metadata": {
    "collapsed": false
   },
   "outputs": [],
   "source": [
    "from sqlalchemy import text\n",
    "result = session.query(New_York_Bill).from_statement(text(\"SELECT * FROM ny_bills\"))"
   ]
  },
  {
   "cell_type": "code",
   "execution_count": 13,
   "metadata": {
    "collapsed": false
   },
   "outputs": [],
   "source": [
    "all_bills = result.all()"
   ]
  },
  {
   "cell_type": "code",
   "execution_count": 14,
   "metadata": {
    "collapsed": false
   },
   "outputs": [
    {
     "data": {
      "text/plain": [
       "50"
      ]
     },
     "execution_count": 14,
     "metadata": {},
     "output_type": "execute_result"
    }
   ],
   "source": [
    "len(all_bills)"
   ]
  },
  {
   "cell_type": "code",
   "execution_count": 22,
   "metadata": {
    "collapsed": false
   },
   "outputs": [
    {
     "data": {
      "text/plain": [
       "<User(bill_num='A5244A', bill_name='Permits retail farm operations as an accessory use to agricultural lands pursuant to the Peconic Bay region community preservation fund', bill_text='\n",
       "                           S T A T E   O F   N E W   Y O R K\n",
       "       ________________________________________________________________________\n",
       "\n",
       "           S. 3689                                                  A. 5244\n",
       "\n",
       "                              2015-2016 Regular Sessions\n",
       "\n",
       "                             S E N A T E - A S S E M B L Y\n",
       "\n",
       "                                   February 13, 2015\n",
       "                                      ___________\n",
       "\n",
       "       IN SENATE -- Introduced by Sen. LAVALLE -- read twice and ordered print-\n",
       "         ed, and when printed to be committed to the Committee on Local Govern-\n",
       "         ment\n",
       "\n",
       "       IN  ASSEMBLY  -- Introduced by M. of A. THIELE -- read once and referred\n",
       "         to the Committee on Local Governments\n",
       "\n",
       "       AN ACT to amend the town law, in  relation  to  permitting  retail  farm\n",
       "         operations  as  an accessory use to agricultural lands pursuant to the\n",
       "         Peconic Bay region community preservation fund\n",
       "\n",
       "         THE PEOPLE OF THE STATE OF NEW YORK, REPRESENTED IN SENATE AND  ASSEM-\n",
       "       BLY, DO ENACT AS FOLLOWS:\n",
       "\n",
       "    1    Section 1. Subdivision 1 of section 64-e of the town law is amended by\n",
       "    2  adding a new paragraph (e) to read as follows:\n",
       "    3    (E) \"RETAIL FARM OPERATION\" MEANS A SEASONAL OR ANNUAL ENTERPRISE WITH\n",
       "    4  EITHER  PERMANENT  OR  NONPERMANENT STRUCTURES THAT ARE OPERATED FOR THE\n",
       "    5  PURPOSES OF SELLING PREDOMINATELY FARM AND FOOD PRODUCTS IN  CONJUNCTION\n",
       "    6  WITH OR IN SUPPORT OF LAND USED IN AGRICULTURAL PRODUCTION AS DEFINED IN\n",
       "    7  SUBDIVISION  FOUR  OF  SECTION  TWO  OF THE AGRICULTURE AND MARKETS LAW.\n",
       "    8  SUCH PORTION OF THE FARM AND FOOD PRODUCTS SHALL EXCEED FIFTY PERCENT OF\n",
       "    9  THE GROSS ANNUAL INCOME OF SUCH RETAIL FARM  OPERATION.  FARM  AND  FOOD\n",
       "   10  PRODUCTS  SHALL  MEAN  ANY  AGRICULTURAL  PRODUCT  OF THE SOIL OR WATER,\n",
       "   11  INCLUDING BUT NOT LIMITED TO  FRESH  OR  PROCESSED  FRUITS,  VEGETABLES,\n",
       "   12  EGGS,  DAIRY  PRODUCTS,  MEAT  AND  MEAT  PRODUCTS,  POULTRY AND POULTRY\n",
       "   13  PRODUCTS, FISH AND FISH PRODUCTS, APPLE CIDER, FRUIT JUICE, WINE,  ORNA-\n",
       "   14  MENTAL PLANTS, NURSERY PRODUCTS, FLOWERS, AND CHRISTMAS TREES.\n",
       "   15    S  2.  Subdivision  4  of  section 64-e of the town law, as amended by\n",
       "   16  chapter 423 of the laws of 2013, is amended to read as follows:\n",
       "   17    4. Preservation of community character shall involve one  or  more  of\n",
       "   18  the  following:  (a) establishment of parks, nature preserves, or recre-\n",
       "   19  ation areas; (b) preservation  of  open  space,  including  agricultural\n",
       "   20  lands  AND  RETAIL  FARM  OPERATIONS AS AN ACCESSORY USE TO AGRICULTURAL\n",
       "\n",
       "        EXPLANATION--Matter in ITALICS (underscored) is new; matter in brackets\n",
       "                             [ ] is old law to be omitted.\n",
       "                                                                  LBD07099-01-5\n",
       "\n",
       "       S. 3689                             2                            A. 5244\n",
       "\n",
       "    1  LANDS; (c) preservation of lands of exceptional scenic value; (d)  pres-\n",
       "    2  ervation of fresh and saltwater marshes or other wetlands; (e) preserva-\n",
       "    3  tion  of  aquifer recharge areas; (f) preservation of undeveloped beach-\n",
       "    4  lands  or  shoreline  including  those  at  significant  risk of coastal\n",
       "    5  flooding due to projected sea level rise and future storms;  (g)  estab-\n",
       "    6  lishment  of  wildlife  refuges  for  the  purpose of maintaining native\n",
       "    7  animal species diversity, including the protection of habitat  essential\n",
       "    8  to the recovery of rare, threatened or endangered species; (h) preserva-\n",
       "    9  tion  of  pine barrens consisting of such biota as pitch pine, and scrub\n",
       "   10  oak; (i) preservation of unique  or  threatened  ecological  areas;  (j)\n",
       "   11  preservation of rivers and river areas in a natural, free-flowing condi-\n",
       "   12  tion;  (k)  preservation  of  forested  land; (l) preservation of public\n",
       "   13  access to lands for public use including stream  rights  and  waterways;\n",
       "   14  (m)  preservation  of  historic  places and properties listed on the New\n",
       "   15  York state register of historic places and/or protected under a  munici-\n",
       "   16  pal  historic  preservation ordinance or law; and (n) undertaking any of\n",
       "   17  the aforementioned in furtherance of the establishment of a greenbelt.\n",
       "   18    S 3. This act shall take effect immediately.\n",
       "')>"
      ]
     },
     "execution_count": 22,
     "metadata": {},
     "output_type": "execute_result"
    }
   ],
   "source": [
    "all_bills[0]"
   ]
  },
  {
   "cell_type": "code",
   "execution_count": 16,
   "metadata": {
    "collapsed": false
   },
   "outputs": [
    {
     "data": {
      "text/plain": [
       "<User(bill_num='S2251A', bill_name='Elevates assault of a utility worker to the class D felony of assault in the second degree', bill_text='\n",
       "                           S T A T E   O F   N E W   Y O R K\n",
       "       ________________________________________________________________________\n",
       "\n",
       "                                         2251\n",
       "\n",
       "                              2015-2016 Regular Sessions\n",
       "\n",
       "                                   I N  S E N A T E\n",
       "\n",
       "                                   January 22, 2015\n",
       "                                      ___________\n",
       "\n",
       "       Introduced  by  Sens. LARKIN, ADDABBO -- read twice and ordered printed,\n",
       "         and when printed to be committed to the Committee on Codes\n",
       "\n",
       "       AN ACT to amend the penal law, in relation to elevating an assault of  a\n",
       "         utility worker to the class D felony of assault in the second degree\n",
       "\n",
       "         THE  PEOPLE OF THE STATE OF NEW YORK, REPRESENTED IN SENATE AND ASSEM-\n",
       "       BLY, DO ENACT AS FOLLOWS:\n",
       "\n",
       "    1    Section 1. Subdivision 3 of  section  120.05  of  the  penal  law,  as\n",
       "    2  amended  by  chapter  196  of  the  laws  of 2014, is amended to read as\n",
       "    3  follows:\n",
       "    4    3. With intent to prevent a peace officer, a police officer,  prosecu-\n",
       "    5  tor as defined in subdivision thirty-one of section 1.20 of the criminal\n",
       "    6  procedure  law,  registered  nurse, licensed practical nurse, sanitation\n",
       "    7  enforcement agent, New  York  city  sanitation  worker,  a  firefighter,\n",
       "    8  including a firefighter acting as a paramedic or emergency medical tech-\n",
       "    9  nician  administering  first aid in the course of performance of duty as\n",
       "   10  such firefighter, an emergency medical service  paramedic  or  emergency\n",
       "   11  medical  service technician, or medical or related personnel in a hospi-\n",
       "   12  tal emergency department,  a  city  marshal,  a  school  crossing  guard\n",
       "   13  appointed pursuant to section two hundred eight-a of the general munici-\n",
       "   14  pal  law,  a traffic enforcement officer [or], traffic enforcement agent\n",
       "   15  OR EMPLOYEE OF ANY ENTITY GOVERNED BY THE  PUBLIC  SERVICE  LAW  IN  THE\n",
       "   16  COURSE  OF  PERFORMING  AN  ESSENTIAL  SERVICE, from performing a lawful\n",
       "   17  duty, by means including releasing or failing to control an animal under\n",
       "   18  circumstances evincing the actor's intent that the animal  obstruct  the\n",
       "   19  lawful  activity  of  such  peace officer, police officer, prosecutor as\n",
       "   20  defined in subdivision thirty-one of section 1.20 of the criminal proce-\n",
       "   21  dure  law,  registered  nurse,  licensed  practical  nurse,   sanitation\n",
       "   22  enforcement   agent,  New  York  city  sanitation  worker,  firefighter,\n",
       "   23  paramedic, technician, city marshal,  school  crossing  guard  appointed\n",
       "   24  pursuant  to  section  two hundred eight-a of the general municipal law,\n",
       "   25  traffic enforcement officer [or], traffic enforcement agent OR  EMPLOYEE\n",
       "\n",
       "        EXPLANATION--Matter in ITALICS (underscored) is new; matter in brackets\n",
       "                             [ ] is old law to be omitted.\n",
       "                                                                  LBD04667-01-5\n",
       "\n",
       "       S. 2251                             2\n",
       "\n",
       "    1  OF  AN ENTITY GOVERNED BY THE PUBLIC SERVICE LAW, he or she causes phys-\n",
       "    2  ical injury to such peace officer, police officer, prosecutor as defined\n",
       "    3  in subdivision thirty-one of section 1.20 of the criminal procedure law,\n",
       "    4  registered  nurse,  licensed  practical  nurse,  sanitation  enforcement\n",
       "    5  agent, New York city sanitation worker, firefighter, paramedic,  techni-\n",
       "    6  cian or medical or related personnel in a hospital emergency department,\n",
       "    7  city  marshal,  school crossing guard, traffic enforcement officer [or],\n",
       "    8  traffic enforcement agent OR EMPLOYEE  OF  AN  ENTITY  GOVERNED  BY  THE\n",
       "    9  PUBLIC SERVICE LAW; or\n",
       "   10    S 2. This act shall take effect on the first of November next succeed-\n",
       "   11  ing the date on which it shall have become a law.\n",
       "')>"
      ]
     },
     "execution_count": 16,
     "metadata": {},
     "output_type": "execute_result"
    }
   ],
   "source": [
    "all_bills[-1]"
   ]
  },
  {
   "cell_type": "code",
   "execution_count": 17,
   "metadata": {
    "collapsed": true
   },
   "outputs": [],
   "source": [
    "session.close()"
   ]
  }
 ],
 "metadata": {
  "anaconda-cloud": {},
  "kernelspec": {
   "display_name": "Python [insight]",
   "language": "python",
   "name": "Python [insight]"
  },
  "language_info": {
   "codemirror_mode": {
    "name": "ipython",
    "version": 2
   },
   "file_extension": ".py",
   "mimetype": "text/x-python",
   "name": "python",
   "nbconvert_exporter": "python",
   "pygments_lexer": "ipython2",
   "version": "2.7.12"
  }
 },
 "nbformat": 4,
 "nbformat_minor": 0
}
