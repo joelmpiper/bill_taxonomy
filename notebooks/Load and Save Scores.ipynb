{
 "cells": [
  {
   "cell_type": "code",
   "execution_count": 24,
   "metadata": {
    "collapsed": true
   },
   "outputs": [],
   "source": [
    "import pickle\n",
    "%load_ext autoreload\n",
    "%autoreload 1"
   ]
  },
  {
   "cell_type": "code",
   "execution_count": 25,
   "metadata": {
    "collapsed": true
   },
   "outputs": [],
   "source": [
    "import os\n",
    "import yaml\n",
    "import sys\n",
    "\n",
    "os.chdir('..')"
   ]
  },
  {
   "cell_type": "code",
   "execution_count": 26,
   "metadata": {
    "collapsed": false
   },
   "outputs": [],
   "source": [
    "%aimport src.ingest.get_bills\n",
    "%aimport src.wrangle.create_features\n",
    "%aimport src.analyze.run_model\n",
    "%aimport src.report.store_db"
   ]
  },
  {
   "cell_type": "code",
   "execution_count": 27,
   "metadata": {
    "collapsed": true
   },
   "outputs": [],
   "source": [
    "from src.ingest.get_bills import get_us_bills\n",
    "from src.ingest.get_bills import get_ny_bills\n",
    "from src.ingest.get_bills import get_subjects\n",
    "from src.wrangle.create_features import make_feat_union\n",
    "from src.analyze.run_model import create_model\n",
    "from src.analyze.run_model import run_model\n",
    "from src.wrangle.create_features import make_x_values\n",
    "from src.wrangle.create_features import make_y_values\n",
    "from src.analyze.run_model import get_y_probs\n",
    "from src.report.store_db import store_us_db\n",
    "from src.report.store_db import store_ny_db"
   ]
  },
  {
   "cell_type": "code",
   "execution_count": 28,
   "metadata": {
    "collapsed": false
   },
   "outputs": [],
   "source": [
    "from src.ingest.setup_database import US_Score\n",
    "from src.ingest.setup_database import NY_Score\n",
    "from sqlalchemy.orm import sessionmaker\n",
    "from sqlalchemy import create_engine"
   ]
  },
  {
   "cell_type": "code",
   "execution_count": 29,
   "metadata": {
    "collapsed": false
   },
   "outputs": [],
   "source": [
    "import psycopg2\n",
    "import pandas as pd\n",
    "# connect:\n",
    "con = None\n",
    "con = psycopg2.connect(database = 'bills_db', user = 'Joel')\n",
    "\n",
    "# query:\n",
    "sql_query = \"\"\"\n",
    "SELECT * FROM us_bills;\n",
    "\"\"\"\n",
    "us_bills = pd.read_sql_query(sql_query,con)"
   ]
  },
  {
   "cell_type": "code",
   "execution_count": 30,
   "metadata": {
    "collapsed": true
   },
   "outputs": [],
   "source": [
    "X = make_x_values(us_bills)"
   ]
  },
  {
   "cell_type": "code",
   "execution_count": 31,
   "metadata": {
    "collapsed": true
   },
   "outputs": [],
   "source": [
    "import psycopg2\n",
    "import pandas as pd\n",
    "# connect:\n",
    "con = None\n",
    "con = psycopg2.connect(database = 'bills_db', user = 'Joel')\n",
    "\n",
    "# query:\n",
    "sql_query = \"\"\"\n",
    "SELECT * FROM ny_bills;\n",
    "\"\"\"\n",
    "ny_bills = pd.read_sql_query(sql_query,con)"
   ]
  },
  {
   "cell_type": "code",
   "execution_count": 32,
   "metadata": {
    "collapsed": true
   },
   "outputs": [],
   "source": [
    "X_ny = make_x_values(ny_bills)"
   ]
  },
  {
   "cell_type": "code",
   "execution_count": 175,
   "metadata": {
    "collapsed": false
   },
   "outputs": [],
   "source": [
    "model = pickle.load(open('/Users/Joel/Desktop/Insight/bill_taxonomy/models/model_Securities_2016-09-23-01-51-17.p'))"
   ]
  },
  {
   "cell_type": "code",
   "execution_count": 176,
   "metadata": {
    "collapsed": true
   },
   "outputs": [],
   "source": [
    "subject_name = 'Securities'"
   ]
  },
  {
   "cell_type": "code",
   "execution_count": 177,
   "metadata": {
    "collapsed": false
   },
   "outputs": [],
   "source": [
    "us_y_probs = model.predict_proba(X)[:, 1]"
   ]
  },
  {
   "cell_type": "code",
   "execution_count": 178,
   "metadata": {
    "collapsed": true
   },
   "outputs": [],
   "source": [
    "ny_y_probs = model.predict_proba(X_ny)[:, 1]"
   ]
  },
  {
   "cell_type": "code",
   "execution_count": 179,
   "metadata": {
    "collapsed": false
   },
   "outputs": [],
   "source": [
    "engine = create_engine('postgres://%s@localhost/%s' % ('Joel', 'bills_db'))\n",
    "\n",
    "# Open a session and connect to the database engine\n",
    "Session = sessionmaker(bind=engine)\n",
    "session = Session()\n",
    "\n",
    "for i, bill in enumerate(ny_y_probs):\n",
    "\n",
    "    one_bill = NY_Score(subject=subject_name, bill_num=ny_bills.ix[i, 'bill_num'],\n",
    "                        score=ny_y_probs[i])\n",
    "    session.add(one_bill)\n",
    "session.commit()\n",
    "session.close()"
   ]
  },
  {
   "cell_type": "code",
   "execution_count": 180,
   "metadata": {
    "collapsed": false
   },
   "outputs": [],
   "source": [
    "engine = create_engine('postgres://%s@localhost/%s' % ('Joel', 'bills_db'))\n",
    "\n",
    "# Open a session and connect to the database engine\n",
    "Session = sessionmaker(bind=engine)\n",
    "session = Session()\n",
    "\n",
    "for i, bill in enumerate(us_y_probs):\n",
    "\n",
    "    one_bill = US_Score(subject=subject_name, bill_num=us_bills.ix[i, 'bill_num'],\n",
    "                        actual=bool(y[i]), score=us_y_probs[i])\n",
    "    session.add(one_bill)\n",
    "session.commit()\n",
    "session.close()"
   ]
  },
  {
   "cell_type": "code",
   "execution_count": 33,
   "metadata": {
    "collapsed": false
   },
   "outputs": [
    {
     "name": "stdout",
     "output_type": "stream",
     "text": [
      "The autoreload extension is already loaded. To reload it, use:\n",
      "  %reload_ext autoreload\n"
     ]
    }
   ],
   "source": [
    "import pickle\n",
    "%load_ext autoreload\n",
    "%autoreload 1\n",
    "\n",
    "import os\n",
    "import yaml\n",
    "import sys\n",
    "\n",
    "os.chdir('..')\n",
    "\n",
    "from src.ingest.setup_database import US_Score\n",
    "from src.ingest.setup_database import NY_Score\n",
    "from sqlalchemy.orm import sessionmaker\n",
    "from sqlalchemy import create_engine\n",
    "from src.ingest.get_bills import get_us_bills\n",
    "from src.ingest.get_bills import get_ny_bills\n",
    "from src.ingest.get_bills import get_subjects\n",
    "from src.wrangle.create_features import make_feat_union\n",
    "from src.analyze.run_model import create_model\n",
    "from src.analyze.run_model import run_model\n",
    "from src.wrangle.create_features import make_x_values\n",
    "from src.wrangle.create_features import make_y_values\n",
    "from src.analyze.run_model import get_y_probs\n",
    "from src.report.store_db import store_us_db\n",
    "from src.report.store_db import store_ny_db\n",
    "\n",
    "\n"
   ]
  },
  {
   "cell_type": "code",
   "execution_count": 46,
   "metadata": {
    "collapsed": false
   },
   "outputs": [],
   "source": [
    "ymlfile = open(\"configs.yml\", 'r')\n",
    "cfg = yaml.load(ymlfile)\n",
    "ymlfile.close()\n",
    "us_bills_subset = cfg['us_bills_subset']"
   ]
  },
  {
   "cell_type": "code",
   "execution_count": 47,
   "metadata": {
    "collapsed": true
   },
   "outputs": [],
   "source": [
    "username = cfg['username']\n",
    "dbname = cfg['dbname']"
   ]
  },
  {
   "cell_type": "code",
   "execution_count": 48,
   "metadata": {
    "collapsed": true
   },
   "outputs": [],
   "source": [
    "us_bills = get_us_bills(dbname, username, us_bills_subset)\n"
   ]
  },
  {
   "cell_type": "code",
   "execution_count": 49,
   "metadata": {
    "collapsed": false
   },
   "outputs": [],
   "source": [
    "subject_list = cfg['subjects']"
   ]
  },
  {
   "cell_type": "code",
   "execution_count": 50,
   "metadata": {
    "collapsed": false
   },
   "outputs": [
    {
     "data": {
      "text/plain": [
       "['Employee benefits and pensions']"
      ]
     },
     "execution_count": 50,
     "metadata": {},
     "output_type": "execute_result"
    }
   ],
   "source": [
    "subject_list"
   ]
  },
  {
   "cell_type": "code",
   "execution_count": 51,
   "metadata": {
    "collapsed": true
   },
   "outputs": [],
   "source": [
    "X = make_x_values(us_bills)\n",
    "pipe_feats = cfg['pipe_feats']\n"
   ]
  },
  {
   "cell_type": "code",
   "execution_count": 52,
   "metadata": {
    "collapsed": false
   },
   "outputs": [],
   "source": [
    "feat_un, feat_params = make_feat_union(pipe_feats, cfg)\n"
   ]
  },
  {
   "cell_type": "code",
   "execution_count": 53,
   "metadata": {
    "collapsed": false
   },
   "outputs": [],
   "source": [
    "model_type = cfg['model_type']\n",
    "model = create_model(feat_un, model_type, feat_params, cfg)\n",
    "        \n",
    "subjects = get_subjects(dbname, username, subject_list)\n"
   ]
  },
  {
   "cell_type": "code",
   "execution_count": 54,
   "metadata": {
    "collapsed": false
   },
   "outputs": [],
   "source": [
    "y = make_y_values(us_bills, subjects, 'Employee benefits and pensions')"
   ]
  },
  {
   "cell_type": "code",
   "execution_count": 55,
   "metadata": {
    "collapsed": false
   },
   "outputs": [
    {
     "data": {
      "text/plain": [
       "14"
      ]
     },
     "execution_count": 55,
     "metadata": {},
     "output_type": "execute_result"
    }
   ],
   "source": [
    "len(y[y==1])"
   ]
  },
  {
   "cell_type": "code",
   "execution_count": 58,
   "metadata": {
    "collapsed": false
   },
   "outputs": [
    {
     "name": "stdout",
     "output_type": "stream",
     "text": [
      "Fitting 3 folds for each of 3 candidates, totalling 9 fits\n",
      "[CV] model__C=10, features__tfidf_title__max_df=0.4, features__tfidf_title__ngram_range=(1, 3), features__tfidf_title__min_df=10, features__tfidf_text__max_features=None, features__tfidf_text__ngram_range=(1, 2), model__penalty=l1, features__tfidf_title__max_features=None, features__tfidf_text__min_df=10, features__tfidf_text__max_df=0.4 \n",
      "[CV]  model__C=10, features__tfidf_title__max_df=0.4, features__tfidf_title__ngram_range=(1, 3), features__tfidf_title__min_df=10, features__tfidf_text__max_features=None, features__tfidf_text__ngram_range=(1, 2), model__penalty=l1, features__tfidf_title__max_features=None, features__tfidf_text__min_df=10, features__tfidf_text__max_df=0.4, score=0.943210 -  11.1s\n",
      "[CV] model__C=10, features__tfidf_title__max_df=0.4, features__tfidf_title__ngram_range=(1, 3), features__tfidf_title__min_df=10, features__tfidf_text__max_features=None, features__tfidf_text__ngram_range=(1, 2), model__penalty=l1, features__tfidf_title__max_features=None, features__tfidf_text__min_df=10, features__tfidf_text__max_df=0.4 \n"
     ]
    },
    {
     "name": "stderr",
     "output_type": "stream",
     "text": [
      "[Parallel(n_jobs=1)]: Done   1 tasks       | elapsed:   11.2s\n"
     ]
    },
    {
     "name": "stdout",
     "output_type": "stream",
     "text": [
      "[CV]  model__C=10, features__tfidf_title__max_df=0.4, features__tfidf_title__ngram_range=(1, 3), features__tfidf_title__min_df=10, features__tfidf_text__max_features=None, features__tfidf_text__ngram_range=(1, 2), model__penalty=l1, features__tfidf_title__max_features=None, features__tfidf_text__min_df=10, features__tfidf_text__max_df=0.4, score=0.786420 -  12.8s\n",
      "[CV] model__C=10, features__tfidf_title__max_df=0.4, features__tfidf_title__ngram_range=(1, 3), features__tfidf_title__min_df=10, features__tfidf_text__max_features=None, features__tfidf_text__ngram_range=(1, 2), model__penalty=l1, features__tfidf_title__max_features=None, features__tfidf_text__min_df=10, features__tfidf_text__max_df=0.4 \n",
      "[CV]  model__C=10, features__tfidf_title__max_df=0.4, features__tfidf_title__ngram_range=(1, 3), features__tfidf_title__min_df=10, features__tfidf_text__max_features=None, features__tfidf_text__ngram_range=(1, 2), model__penalty=l1, features__tfidf_title__max_features=None, features__tfidf_text__min_df=10, features__tfidf_text__max_df=0.4, score=0.953704 -  14.0s\n",
      "[CV] model__C=100, features__tfidf_title__max_df=0.4, features__tfidf_title__ngram_range=(1, 3), features__tfidf_title__min_df=10, features__tfidf_text__max_features=None, features__tfidf_text__ngram_range=(1, 2), model__penalty=l1, features__tfidf_title__max_features=None, features__tfidf_text__min_df=10, features__tfidf_text__max_df=0.4 \n",
      "[CV]  model__C=100, features__tfidf_title__max_df=0.4, features__tfidf_title__ngram_range=(1, 3), features__tfidf_title__min_df=10, features__tfidf_text__max_features=None, features__tfidf_text__ngram_range=(1, 2), model__penalty=l1, features__tfidf_title__max_features=None, features__tfidf_text__min_df=10, features__tfidf_text__max_df=0.4, score=0.922222 -  10.8s\n",
      "[CV] model__C=100, features__tfidf_title__max_df=0.4, features__tfidf_title__ngram_range=(1, 3), features__tfidf_title__min_df=10, features__tfidf_text__max_features=None, features__tfidf_text__ngram_range=(1, 2), model__penalty=l1, features__tfidf_title__max_features=None, features__tfidf_text__min_df=10, features__tfidf_text__max_df=0.4 \n"
     ]
    },
    {
     "name": "stderr",
     "output_type": "stream",
     "text": [
      "[Parallel(n_jobs=1)]: Done   4 tasks       | elapsed:   49.0s\n"
     ]
    },
    {
     "name": "stdout",
     "output_type": "stream",
     "text": [
      "[CV]  model__C=100, features__tfidf_title__max_df=0.4, features__tfidf_title__ngram_range=(1, 3), features__tfidf_title__min_df=10, features__tfidf_text__max_features=None, features__tfidf_text__ngram_range=(1, 2), model__penalty=l1, features__tfidf_title__max_features=None, features__tfidf_text__min_df=10, features__tfidf_text__max_df=0.4, score=0.793827 -  12.7s\n",
      "[CV] model__C=100, features__tfidf_title__max_df=0.4, features__tfidf_title__ngram_range=(1, 3), features__tfidf_title__min_df=10, features__tfidf_text__max_features=None, features__tfidf_text__ngram_range=(1, 2), model__penalty=l1, features__tfidf_title__max_features=None, features__tfidf_text__min_df=10, features__tfidf_text__max_df=0.4 \n",
      "[CV]  model__C=100, features__tfidf_title__max_df=0.4, features__tfidf_title__ngram_range=(1, 3), features__tfidf_title__min_df=10, features__tfidf_text__max_features=None, features__tfidf_text__ngram_range=(1, 2), model__penalty=l1, features__tfidf_title__max_features=None, features__tfidf_text__min_df=10, features__tfidf_text__max_df=0.4, score=0.919753 -  11.8s\n",
      "[CV] model__C=1000000000, features__tfidf_title__max_df=0.4, features__tfidf_title__ngram_range=(1, 3), features__tfidf_title__min_df=10, features__tfidf_text__max_features=None, features__tfidf_text__ngram_range=(1, 2), model__penalty=l1, features__tfidf_title__max_features=None, features__tfidf_text__min_df=10, features__tfidf_text__max_df=0.4 \n",
      "[CV]  model__C=1000000000, features__tfidf_title__max_df=0.4, features__tfidf_title__ngram_range=(1, 3), features__tfidf_title__min_df=10, features__tfidf_text__max_features=None, features__tfidf_text__ngram_range=(1, 2), model__penalty=l1, features__tfidf_title__max_features=None, features__tfidf_text__min_df=10, features__tfidf_text__max_df=0.4, score=0.711111 -  11.8s\n",
      "[CV] model__C=1000000000, features__tfidf_title__max_df=0.4, features__tfidf_title__ngram_range=(1, 3), features__tfidf_title__min_df=10, features__tfidf_text__max_features=None, features__tfidf_text__ngram_range=(1, 2), model__penalty=l1, features__tfidf_title__max_features=None, features__tfidf_text__min_df=10, features__tfidf_text__max_df=0.4 \n"
     ]
    },
    {
     "name": "stderr",
     "output_type": "stream",
     "text": [
      "[Parallel(n_jobs=1)]: Done   7 tasks       | elapsed:  1.4min\n"
     ]
    },
    {
     "name": "stdout",
     "output_type": "stream",
     "text": [
      "[CV]  model__C=1000000000, features__tfidf_title__max_df=0.4, features__tfidf_title__ngram_range=(1, 3), features__tfidf_title__min_df=10, features__tfidf_text__max_features=None, features__tfidf_text__ngram_range=(1, 2), model__penalty=l1, features__tfidf_title__max_features=None, features__tfidf_text__min_df=10, features__tfidf_text__max_df=0.4, score=0.813580 -  11.2s\n",
      "[CV] model__C=1000000000, features__tfidf_title__max_df=0.4, features__tfidf_title__ngram_range=(1, 3), features__tfidf_title__min_df=10, features__tfidf_text__max_features=None, features__tfidf_text__ngram_range=(1, 2), model__penalty=l1, features__tfidf_title__max_features=None, features__tfidf_text__min_df=10, features__tfidf_text__max_df=0.4 \n",
      "[CV]  model__C=1000000000, features__tfidf_title__max_df=0.4, features__tfidf_title__ngram_range=(1, 3), features__tfidf_title__min_df=10, features__tfidf_text__max_features=None, features__tfidf_text__ngram_range=(1, 2), model__penalty=l1, features__tfidf_title__max_features=None, features__tfidf_text__min_df=10, features__tfidf_text__max_df=0.4, score=0.716049 -  11.7s\n"
     ]
    },
    {
     "name": "stderr",
     "output_type": "stream",
     "text": [
      "[Parallel(n_jobs=1)]: Done   9 out of   9 | elapsed:  1.8min finished\n"
     ]
    }
   ],
   "source": [
    "reload(src.report.store_db)\n",
    "results = []\n",
    "for sub in subject_list:\n",
    "    \n",
    "    y = make_y_values(us_bills, subjects, sub)\n",
    "    fit_mod = run_model(model, X, y, sub, cfg)\n",
    "    results.append(fit_mod)\n",
    "\n",
    "    if(cfg['store_us']):\n",
    "        y_probs_us = get_y_probs(fit_mod, X)\n",
    "        src.report.store_db.store_us_db(dbname, username, us_bills, sub, y_probs_us, y, cfg)\n",
    "\n",
    "    if(cfg['store_ny']):\n",
    "        ny_bills_subset = cfg['ny_bills_subset']\n",
    "        ny_bills = get_ny_bills(dbname, username, ny_bills_subset)\n",
    "        X_ny = make_x_values(ny_bills)\n",
    "        y_probs_ny = get_y_probs(fit_mod, X_ny)\n",
    "        src.report.store_db.store_ny_db(dbname, username, ny_bills, sub, y_probs_ny, cfg)"
   ]
  },
  {
   "cell_type": "code",
   "execution_count": 22,
   "metadata": {
    "collapsed": false
   },
   "outputs": [],
   "source": [
    "from sqlalchemy import create_engine\n",
    "import pandas as pd\n",
    "import psycopg2\n",
    "dbwrite_user = 'ubuntu'\n",
    "host =  'ec2-52-45-31-100.compute-1.amazonaws.com'\n",
    "#host = '52-45-31-100'\n",
    "dbname = 'bills_db'"
   ]
  },
  {
   "cell_type": "code",
   "execution_count": 23,
   "metadata": {
    "collapsed": false
   },
   "outputs": [
    {
     "name": "stdout",
     "output_type": "stream",
     "text": [
      "   bill_num                                          bill_name  score\n",
      "0     A501E  Requires health care plans and insurers to pro...    1.0\n",
      "1    S3651D  Requires specific Medicaid insurance codes rel...    1.0\n",
      "2     S3398  Relates to requirements for the transfer of pa...    1.0\n",
      "3     K1518  Memorializing Governor Andrew M. Cuomo to proc...    1.0\n",
      "4    A3072A  Creates an education and outreach program for ...    1.0\n",
      "5      J128  Memorializing Governor Andrew M. Cuomo to proc...    1.0\n",
      "6    S5216A  Creates an education and outreach program for ...    1.0\n",
      "7     S3900  Relates to the administration of certain immun...    1.0\n",
      "8      J400  Memorializing Governor Andrew M. Cuomo to proc...    1.0\n",
      "9     J6425  Memorializing Governor Andrew M. Cuomo to proc...    1.0\n",
      "10    J1186  Memorializing Governor Andrew M. Cuomo to proc...    1.0\n",
      "11     K560  Memorializing Governor Andrew M. Cuomo to proc...    1.0\n",
      "12    J1334  Memorializing Governor Andrew M. Cuomo to proc...    1.0\n",
      "13   A2552A  Relates to telehealth delivery of services; re...    1.0\n",
      "14    K1577  Memorializing Governor Andrew M. Cuomo to proc...    1.0\n",
      "15    J3535  Memorializing Governor Andrew M. Cuomo to proc...    1.0\n",
      "16    A7616  Prohibits requiring health care providers to p...    1.0\n",
      "17     J525  Congratulating Genesee Cancer Assistance, Inc....    1.0\n",
      "18     K580  Memorializing Governor Andrew M. Cuomo to proc...    1.0\n",
      "19     J387  Memorializing Governor Andrew M. Cuomo to proc...    1.0\n",
      "20    S2405  Relates to telehealth delivery of services; re...    1.0\n",
      "21     K299  Memorializing Governor Andrew M. Cuomo to proc...    1.0\n",
      "22    A4938  Allows reimbursements for certain services pro...    1.0\n",
      "23   S4857A  Authorizes pharmacists to perform collaborativ...    1.0\n",
      "24     K570  Memorializing Governor Andrew M. Cuomo to proc...    1.0\n",
      "25   A1327A  Provides for the expedited utilization review ...    1.0\n",
      "26   S5170A  Limits the substitution of abuse-deterrent ana...    1.0\n",
      "27    J5051  Memorializing Governor Andrew M. Cuomo to proc...    1.0\n",
      "28    A1567  Establishes the clinical trial access and educ...    1.0\n",
      "29    J4190  Memorializing Governor Andrew M. Cuomo to proc...    1.0\n",
      "..      ...                                                ...    ...\n",
      "70   A10718  Relates to the reimbursement rates for complex...    1.0\n",
      "71    J4431  Memorializing Governor Andrew M. Cuomo to proc...    1.0\n",
      "72   A10470  Relates to establishing protections from exces...    1.0\n",
      "73    K1562  Memorializing Governor Andrew M. Cuomo to proc...    1.0\n",
      "74    K1520  Memorializing Governor Andrew M. Cuomo to proc...    1.0\n",
      "75    K1471  Memorializing Governor Andrew M. Cuomo to proc...    1.0\n",
      "76    A355A  Authorizes the commissioner of health to estab...    1.0\n",
      "77   S6392A  Requires reimbursement for surgical first assi...    1.0\n",
      "78    A9487  Provides for patient access to FDA approved ab...    1.0\n",
      "79    J5435  Memorializing Governor Andrew M. Cuomo to proc...    1.0\n",
      "80     S280  Includes nurse practitioners as a provider of ...    1.0\n",
      "81    K1116  Memorializing Governor Andrew M. Cuomo to proc...    1.0\n",
      "82    K1382  Memorializing Governor Andrew M. Cuomo to proc...    1.0\n",
      "83    K1296  Memorializing Governor Andrew M. Cuomo to proc...    1.0\n",
      "84    K1112  Recognizing April 2016, as National Donate Lif...    1.0\n",
      "85   A2211A  Relates to conforming the definition of pallia...    1.0\n",
      "86   S7067A  Makes care and services provided by licensed m...    1.0\n",
      "87   S2809A  Provides for the insurance coverage of the syn...    1.0\n",
      "88    J4772  Memorializing Governor Andrew M. Cuomo to proc...    1.0\n",
      "89   A4036A  Provides for the insurance coverage of the syn...    1.0\n",
      "90   A10202  Relates to the sale and possession of hypoderm...    1.0\n",
      "91    S378A  Extends the protections of the medical exempti...    1.0\n",
      "92    K1284  Memorializing Governor Andrew M. Cuomo to proc...    1.0\n",
      "93    S7319  Relates to requiring health insurance coverage...    1.0\n",
      "94    A448A  Requires managed care programs to establish pr...    1.0\n",
      "95   A10476  Ensures reproductive health care during auto e...    1.0\n",
      "96   A10066  Relates to coverage for maternal depression sc...    1.0\n",
      "97    A9301  Requires a utilization review of a request for...    1.0\n",
      "98    K1499  Memorializing Governor Andrew M. Cuomo to proc...    1.0\n",
      "99    K1496  Memorializing Governor Andrew M. Cuomo to proc...    1.0\n",
      "\n",
      "[100 rows x 3 columns]\n"
     ]
    }
   ],
   "source": [
    "engine = create_engine('postgres://%s@%s/%s' % (dbwrite_user, host, dbname))\n",
    "con = psycopg2.connect(host=host, database=dbname, user=dbwrite_user)\n",
    "sql_query = \"\"\"\n",
    "            SELECT nyb.bill_num, nyb.bill_name, ts.score\n",
    "            FROM table_score as ts\n",
    "            INNER JOIN ny_bills as nyb\n",
    "            ON nyb.bill_num=ts.bill_num\n",
    "            WHERE ts.subject='Health'\n",
    "            ORDER BY ts.score DESC\n",
    "            LIMIT 100;\n",
    "            \"\"\"\n",
    "query_results = pd.read_sql_query(sql_query, con)\n",
    "print(query_results[:100])\n",
    "con.close()"
   ]
  },
  {
   "cell_type": "code",
   "execution_count": 59,
   "metadata": {
    "collapsed": true
   },
   "outputs": [],
   "source": [
    "con.close()"
   ]
  },
  {
   "cell_type": "code",
   "execution_count": 129,
   "metadata": {
    "collapsed": true
   },
   "outputs": [],
   "source": [
    "from sqlalchemy.orm import sessionmaker\n",
    "from src.ingest.setup_database import NY_Score\n",
    "\n",
    "Session = sessionmaker(bind=engine)\n",
    "session = Session()"
   ]
  },
  {
   "cell_type": "code",
   "execution_count": null,
   "metadata": {
    "collapsed": true
   },
   "outputs": [],
   "source": []
  },
  {
   "cell_type": "code",
   "execution_count": 133,
   "metadata": {
    "collapsed": false
   },
   "outputs": [],
   "source": [
    "result = session.query(NY_Score).filter(NY_Score.subject == 'Health')\n",
    "session.commit()"
   ]
  },
  {
   "cell_type": "code",
   "execution_count": 134,
   "metadata": {
    "collapsed": false
   },
   "outputs": [
    {
     "data": {
      "text/plain": [
       "<sqlalchemy.orm.query.Query at 0x116a5ed50>"
      ]
     },
     "execution_count": 134,
     "metadata": {},
     "output_type": "execute_result"
    }
   ],
   "source": [
    "result"
   ]
  },
  {
   "cell_type": "code",
   "execution_count": null,
   "metadata": {
    "collapsed": true
   },
   "outputs": [],
   "source": []
  }
 ],
 "metadata": {
  "anaconda-cloud": {},
  "kernelspec": {
   "display_name": "Python [insight]",
   "language": "python",
   "name": "Python [insight]"
  },
  "language_info": {
   "codemirror_mode": {
    "name": "ipython",
    "version": 2
   },
   "file_extension": ".py",
   "mimetype": "text/x-python",
   "name": "python",
   "nbconvert_exporter": "python",
   "pygments_lexer": "ipython2",
   "version": "2.7.12"
  }
 },
 "nbformat": 4,
 "nbformat_minor": 0
}
