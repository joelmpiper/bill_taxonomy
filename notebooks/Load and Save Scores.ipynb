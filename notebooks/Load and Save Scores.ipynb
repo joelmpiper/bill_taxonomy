{
 "cells": [
  {
   "cell_type": "code",
   "execution_count": 3,
   "metadata": {
    "collapsed": true
   },
   "outputs": [],
   "source": [
    "import pickle\n",
    "%load_ext autoreload\n",
    "%autoreload 1"
   ]
  },
  {
   "cell_type": "code",
   "execution_count": 5,
   "metadata": {
    "collapsed": true
   },
   "outputs": [],
   "source": [
    "import os\n",
    "import yaml\n",
    "import sys\n",
    "\n",
    "os.chdir('..')"
   ]
  },
  {
   "cell_type": "code",
   "execution_count": 6,
   "metadata": {
    "collapsed": false
   },
   "outputs": [],
   "source": [
    "%aimport src.ingest.get_bills\n",
    "%aimport src.wrangle.create_features\n",
    "%aimport src.analyze.run_model\n",
    "%aimport src.report.store_db"
   ]
  },
  {
   "cell_type": "code",
   "execution_count": 7,
   "metadata": {
    "collapsed": true
   },
   "outputs": [],
   "source": [
    "from src.ingest.get_bills import get_us_bills\n",
    "from src.ingest.get_bills import get_ny_bills\n",
    "from src.ingest.get_bills import get_subjects\n",
    "from src.wrangle.create_features import make_feat_union\n",
    "from src.analyze.run_model import create_model\n",
    "from src.analyze.run_model import run_model\n",
    "from src.wrangle.create_features import make_x_values\n",
    "from src.wrangle.create_features import make_y_values\n",
    "from src.analyze.run_model import get_y_probs\n",
    "from src.report.store_db import store_us_db\n",
    "from src.report.store_db import store_ny_db"
   ]
  },
  {
   "cell_type": "code",
   "execution_count": 53,
   "metadata": {
    "collapsed": false
   },
   "outputs": [],
   "source": [
    "full_results = pickle.load(open('/Users/Joel/Desktop/Insight/bill_taxonomy/models/data_model_Taxation_2016-09-20-21-04-34.p'))"
   ]
  },
  {
   "cell_type": "code",
   "execution_count": 54,
   "metadata": {
    "collapsed": false
   },
   "outputs": [],
   "source": [
    "model, X, y = full_results"
   ]
  },
  {
   "cell_type": "code",
   "execution_count": 55,
   "metadata": {
    "collapsed": false
   },
   "outputs": [
    {
     "data": {
      "text/plain": [
       "{'cv': 3,\n",
       " 'error_score': 'raise',\n",
       " 'estimator': Pipeline(steps=[('features', FeatureUnion(n_jobs=1,\n",
       "        transformer_list=[('tfidf_title', TfidfVectorizer(analyzer=u'word', binary=False, decode_error=u'strict',\n",
       "         dtype=<type 'numpy.int64'>, encoding=u'utf-8', input=u'content',\n",
       "         lowercase=True, max_df=0.4, max_features=None, min_df=10,\n",
       "      ...ty='l1', random_state=None,\n",
       "           solver='liblinear', tol=0.0001, verbose=0, warm_start=False))]),\n",
       " 'estimator__features': FeatureUnion(n_jobs=1,\n",
       "        transformer_list=[('tfidf_title', TfidfVectorizer(analyzer=u'word', binary=False, decode_error=u'strict',\n",
       "         dtype=<type 'numpy.int64'>, encoding=u'utf-8', input=u'content',\n",
       "         lowercase=True, max_df=0.4, max_features=None, min_df=10,\n",
       "         ngram_range=(1, 3), norm=u'l2',\n",
       "         preproc...ol=0.1, random_state=0,\n",
       "              topic_word_prior=None, total_samples=1000000.0, verbose=0))]))],\n",
       "        transformer_weights=None),\n",
       " 'estimator__features__lda_text': Pipeline(steps=[('lda_tf_text', CountVectorizer(analyzer=u'word', binary=False, decode_error=u'strict',\n",
       "         dtype=<type 'numpy.int64'>, encoding=u'utf-8', input=u'content',\n",
       "         lowercase=True, max_df=0.4, max_features=None, min_df=10,\n",
       "         ngram_range=(1, 2),\n",
       "         preprocessor=<function my_prep...p_tol=0.1, random_state=0,\n",
       "              topic_word_prior=None, total_samples=1000000.0, verbose=0))]),\n",
       " 'estimator__features__lda_text__lda_model_text': LatentDirichletAllocation(batch_size=128, doc_topic_prior=None,\n",
       "              evaluate_every=-1, learning_decay=0.7,\n",
       "              learning_method='online', learning_offset=50.0,\n",
       "              max_doc_update_iter=100, max_iter=5, mean_change_tol=0.001,\n",
       "              n_jobs=1, n_topics=100, perp_tol=0.1, random_state=0,\n",
       "              topic_word_prior=None, total_samples=1000000.0, verbose=0),\n",
       " 'estimator__features__lda_text__lda_model_text__batch_size': 128,\n",
       " 'estimator__features__lda_text__lda_model_text__doc_topic_prior': None,\n",
       " 'estimator__features__lda_text__lda_model_text__evaluate_every': -1,\n",
       " 'estimator__features__lda_text__lda_model_text__learning_decay': 0.7,\n",
       " 'estimator__features__lda_text__lda_model_text__learning_method': 'online',\n",
       " 'estimator__features__lda_text__lda_model_text__learning_offset': 50.0,\n",
       " 'estimator__features__lda_text__lda_model_text__max_doc_update_iter': 100,\n",
       " 'estimator__features__lda_text__lda_model_text__max_iter': 5,\n",
       " 'estimator__features__lda_text__lda_model_text__mean_change_tol': 0.001,\n",
       " 'estimator__features__lda_text__lda_model_text__n_jobs': 1,\n",
       " 'estimator__features__lda_text__lda_model_text__n_topics': 100,\n",
       " 'estimator__features__lda_text__lda_model_text__perp_tol': 0.1,\n",
       " 'estimator__features__lda_text__lda_model_text__random_state': 0,\n",
       " 'estimator__features__lda_text__lda_model_text__topic_word_prior': None,\n",
       " 'estimator__features__lda_text__lda_model_text__total_samples': 1000000.0,\n",
       " 'estimator__features__lda_text__lda_model_text__verbose': 0,\n",
       " 'estimator__features__lda_text__lda_tf_text': CountVectorizer(analyzer=u'word', binary=False, decode_error=u'strict',\n",
       "         dtype=<type 'numpy.int64'>, encoding=u'utf-8', input=u'content',\n",
       "         lowercase=True, max_df=0.4, max_features=None, min_df=10,\n",
       "         ngram_range=(1, 2),\n",
       "         preprocessor=<function my_preproc_text at 0x1152f3230>,\n",
       "         stop_words='english', strip_accents=None,\n",
       "         token_pattern=u'(?u)\\\\b\\\\w\\\\w+\\\\b',\n",
       "         tokenizer=<function tokenize at 0x1152f31b8>, vocabulary=None),\n",
       " 'estimator__features__lda_text__lda_tf_text__analyzer': u'word',\n",
       " 'estimator__features__lda_text__lda_tf_text__binary': False,\n",
       " 'estimator__features__lda_text__lda_tf_text__decode_error': u'strict',\n",
       " 'estimator__features__lda_text__lda_tf_text__dtype': numpy.int64,\n",
       " 'estimator__features__lda_text__lda_tf_text__encoding': u'utf-8',\n",
       " 'estimator__features__lda_text__lda_tf_text__input': u'content',\n",
       " 'estimator__features__lda_text__lda_tf_text__lowercase': True,\n",
       " 'estimator__features__lda_text__lda_tf_text__max_df': 0.4,\n",
       " 'estimator__features__lda_text__lda_tf_text__max_features': None,\n",
       " 'estimator__features__lda_text__lda_tf_text__min_df': 10,\n",
       " 'estimator__features__lda_text__lda_tf_text__ngram_range': (1, 2),\n",
       " 'estimator__features__lda_text__lda_tf_text__preprocessor': <function src.wrangle.create_features.my_preproc_text>,\n",
       " 'estimator__features__lda_text__lda_tf_text__stop_words': 'english',\n",
       " 'estimator__features__lda_text__lda_tf_text__strip_accents': None,\n",
       " 'estimator__features__lda_text__lda_tf_text__token_pattern': u'(?u)\\\\b\\\\w\\\\w+\\\\b',\n",
       " 'estimator__features__lda_text__lda_tf_text__tokenizer': <function src.wrangle.create_features.tokenize>,\n",
       " 'estimator__features__lda_text__lda_tf_text__vocabulary': None,\n",
       " 'estimator__features__lda_text__steps': [('lda_tf_text',\n",
       "   CountVectorizer(analyzer=u'word', binary=False, decode_error=u'strict',\n",
       "           dtype=<type 'numpy.int64'>, encoding=u'utf-8', input=u'content',\n",
       "           lowercase=True, max_df=0.4, max_features=None, min_df=10,\n",
       "           ngram_range=(1, 2),\n",
       "           preprocessor=<function my_preproc_text at 0x1152f3230>,\n",
       "           stop_words='english', strip_accents=None,\n",
       "           token_pattern=u'(?u)\\\\b\\\\w\\\\w+\\\\b',\n",
       "           tokenizer=<function tokenize at 0x1152f31b8>, vocabulary=None)),\n",
       "  ('lda_model_text',\n",
       "   LatentDirichletAllocation(batch_size=128, doc_topic_prior=None,\n",
       "                evaluate_every=-1, learning_decay=0.7,\n",
       "                learning_method='online', learning_offset=50.0,\n",
       "                max_doc_update_iter=100, max_iter=5, mean_change_tol=0.001,\n",
       "                n_jobs=1, n_topics=100, perp_tol=0.1, random_state=0,\n",
       "                topic_word_prior=None, total_samples=1000000.0, verbose=0))],\n",
       " 'estimator__features__lda_title': Pipeline(steps=[('lda_tf_title', CountVectorizer(analyzer=u'word', binary=False, decode_error=u'strict',\n",
       "         dtype=<type 'numpy.int64'>, encoding=u'utf-8', input=u'content',\n",
       "         lowercase=True, max_df=0.4, max_features=None, min_df=10,\n",
       "         ngram_range=(1, 3),\n",
       "         preprocessor=<function my_pre...p_tol=0.1, random_state=0,\n",
       "              topic_word_prior=None, total_samples=1000000.0, verbose=0))]),\n",
       " 'estimator__features__lda_title__lda_model_title': LatentDirichletAllocation(batch_size=128, doc_topic_prior=None,\n",
       "              evaluate_every=-1, learning_decay=0.7,\n",
       "              learning_method='online', learning_offset=50.0,\n",
       "              max_doc_update_iter=100, max_iter=5, mean_change_tol=0.001,\n",
       "              n_jobs=1, n_topics=100, perp_tol=0.1, random_state=0,\n",
       "              topic_word_prior=None, total_samples=1000000.0, verbose=0),\n",
       " 'estimator__features__lda_title__lda_model_title__batch_size': 128,\n",
       " 'estimator__features__lda_title__lda_model_title__doc_topic_prior': None,\n",
       " 'estimator__features__lda_title__lda_model_title__evaluate_every': -1,\n",
       " 'estimator__features__lda_title__lda_model_title__learning_decay': 0.7,\n",
       " 'estimator__features__lda_title__lda_model_title__learning_method': 'online',\n",
       " 'estimator__features__lda_title__lda_model_title__learning_offset': 50.0,\n",
       " 'estimator__features__lda_title__lda_model_title__max_doc_update_iter': 100,\n",
       " 'estimator__features__lda_title__lda_model_title__max_iter': 5,\n",
       " 'estimator__features__lda_title__lda_model_title__mean_change_tol': 0.001,\n",
       " 'estimator__features__lda_title__lda_model_title__n_jobs': 1,\n",
       " 'estimator__features__lda_title__lda_model_title__n_topics': 100,\n",
       " 'estimator__features__lda_title__lda_model_title__perp_tol': 0.1,\n",
       " 'estimator__features__lda_title__lda_model_title__random_state': 0,\n",
       " 'estimator__features__lda_title__lda_model_title__topic_word_prior': None,\n",
       " 'estimator__features__lda_title__lda_model_title__total_samples': 1000000.0,\n",
       " 'estimator__features__lda_title__lda_model_title__verbose': 0,\n",
       " 'estimator__features__lda_title__lda_tf_title': CountVectorizer(analyzer=u'word', binary=False, decode_error=u'strict',\n",
       "         dtype=<type 'numpy.int64'>, encoding=u'utf-8', input=u'content',\n",
       "         lowercase=True, max_df=0.4, max_features=None, min_df=10,\n",
       "         ngram_range=(1, 3),\n",
       "         preprocessor=<function my_preproc_title at 0x1152f32a8>,\n",
       "         stop_words='english', strip_accents=None,\n",
       "         token_pattern=u'(?u)\\\\b\\\\w\\\\w+\\\\b',\n",
       "         tokenizer=<function tokenize at 0x1152f31b8>, vocabulary=None),\n",
       " 'estimator__features__lda_title__lda_tf_title__analyzer': u'word',\n",
       " 'estimator__features__lda_title__lda_tf_title__binary': False,\n",
       " 'estimator__features__lda_title__lda_tf_title__decode_error': u'strict',\n",
       " 'estimator__features__lda_title__lda_tf_title__dtype': numpy.int64,\n",
       " 'estimator__features__lda_title__lda_tf_title__encoding': u'utf-8',\n",
       " 'estimator__features__lda_title__lda_tf_title__input': u'content',\n",
       " 'estimator__features__lda_title__lda_tf_title__lowercase': True,\n",
       " 'estimator__features__lda_title__lda_tf_title__max_df': 0.4,\n",
       " 'estimator__features__lda_title__lda_tf_title__max_features': None,\n",
       " 'estimator__features__lda_title__lda_tf_title__min_df': 10,\n",
       " 'estimator__features__lda_title__lda_tf_title__ngram_range': (1, 3),\n",
       " 'estimator__features__lda_title__lda_tf_title__preprocessor': <function src.wrangle.create_features.my_preproc_title>,\n",
       " 'estimator__features__lda_title__lda_tf_title__stop_words': 'english',\n",
       " 'estimator__features__lda_title__lda_tf_title__strip_accents': None,\n",
       " 'estimator__features__lda_title__lda_tf_title__token_pattern': u'(?u)\\\\b\\\\w\\\\w+\\\\b',\n",
       " 'estimator__features__lda_title__lda_tf_title__tokenizer': <function src.wrangle.create_features.tokenize>,\n",
       " 'estimator__features__lda_title__lda_tf_title__vocabulary': None,\n",
       " 'estimator__features__lda_title__steps': [('lda_tf_title',\n",
       "   CountVectorizer(analyzer=u'word', binary=False, decode_error=u'strict',\n",
       "           dtype=<type 'numpy.int64'>, encoding=u'utf-8', input=u'content',\n",
       "           lowercase=True, max_df=0.4, max_features=None, min_df=10,\n",
       "           ngram_range=(1, 3),\n",
       "           preprocessor=<function my_preproc_title at 0x1152f32a8>,\n",
       "           stop_words='english', strip_accents=None,\n",
       "           token_pattern=u'(?u)\\\\b\\\\w\\\\w+\\\\b',\n",
       "           tokenizer=<function tokenize at 0x1152f31b8>, vocabulary=None)),\n",
       "  ('lda_model_title',\n",
       "   LatentDirichletAllocation(batch_size=128, doc_topic_prior=None,\n",
       "                evaluate_every=-1, learning_decay=0.7,\n",
       "                learning_method='online', learning_offset=50.0,\n",
       "                max_doc_update_iter=100, max_iter=5, mean_change_tol=0.001,\n",
       "                n_jobs=1, n_topics=100, perp_tol=0.1, random_state=0,\n",
       "                topic_word_prior=None, total_samples=1000000.0, verbose=0))],\n",
       " 'estimator__features__n_jobs': 1,\n",
       " 'estimator__features__tfidf_text': TfidfVectorizer(analyzer=u'word', binary=False, decode_error=u'strict',\n",
       "         dtype=<type 'numpy.int64'>, encoding=u'utf-8', input=u'content',\n",
       "         lowercase=True, max_df=0.4, max_features=None, min_df=10,\n",
       "         ngram_range=(1, 2), norm=u'l2',\n",
       "         preprocessor=<function my_preproc_text at 0x1152f3230>,\n",
       "         smooth_idf=True, stop_words='english', strip_accents=None,\n",
       "         sublinear_tf=False, token_pattern=u'(?u)\\\\b\\\\w\\\\w+\\\\b',\n",
       "         tokenizer=<function tokenize at 0x1152f31b8>, use_idf=True,\n",
       "         vocabulary=None),\n",
       " 'estimator__features__tfidf_text__analyzer': u'word',\n",
       " 'estimator__features__tfidf_text__binary': False,\n",
       " 'estimator__features__tfidf_text__decode_error': u'strict',\n",
       " 'estimator__features__tfidf_text__dtype': numpy.int64,\n",
       " 'estimator__features__tfidf_text__encoding': u'utf-8',\n",
       " 'estimator__features__tfidf_text__input': u'content',\n",
       " 'estimator__features__tfidf_text__lowercase': True,\n",
       " 'estimator__features__tfidf_text__max_df': 0.4,\n",
       " 'estimator__features__tfidf_text__max_features': None,\n",
       " 'estimator__features__tfidf_text__min_df': 10,\n",
       " 'estimator__features__tfidf_text__ngram_range': (1, 2),\n",
       " 'estimator__features__tfidf_text__norm': u'l2',\n",
       " 'estimator__features__tfidf_text__preprocessor': <function src.wrangle.create_features.my_preproc_text>,\n",
       " 'estimator__features__tfidf_text__smooth_idf': True,\n",
       " 'estimator__features__tfidf_text__stop_words': 'english',\n",
       " 'estimator__features__tfidf_text__strip_accents': None,\n",
       " 'estimator__features__tfidf_text__sublinear_tf': False,\n",
       " 'estimator__features__tfidf_text__token_pattern': u'(?u)\\\\b\\\\w\\\\w+\\\\b',\n",
       " 'estimator__features__tfidf_text__tokenizer': <function src.wrangle.create_features.tokenize>,\n",
       " 'estimator__features__tfidf_text__use_idf': True,\n",
       " 'estimator__features__tfidf_text__vocabulary': None,\n",
       " 'estimator__features__tfidf_title': TfidfVectorizer(analyzer=u'word', binary=False, decode_error=u'strict',\n",
       "         dtype=<type 'numpy.int64'>, encoding=u'utf-8', input=u'content',\n",
       "         lowercase=True, max_df=0.4, max_features=None, min_df=10,\n",
       "         ngram_range=(1, 3), norm=u'l2',\n",
       "         preprocessor=<function my_preproc_title at 0x1152f32a8>,\n",
       "         smooth_idf=True, stop_words='english', strip_accents=None,\n",
       "         sublinear_tf=False, token_pattern=u'(?u)\\\\b\\\\w\\\\w+\\\\b',\n",
       "         tokenizer=<function tokenize at 0x1152f31b8>, use_idf=True,\n",
       "         vocabulary=None),\n",
       " 'estimator__features__tfidf_title__analyzer': u'word',\n",
       " 'estimator__features__tfidf_title__binary': False,\n",
       " 'estimator__features__tfidf_title__decode_error': u'strict',\n",
       " 'estimator__features__tfidf_title__dtype': numpy.int64,\n",
       " 'estimator__features__tfidf_title__encoding': u'utf-8',\n",
       " 'estimator__features__tfidf_title__input': u'content',\n",
       " 'estimator__features__tfidf_title__lowercase': True,\n",
       " 'estimator__features__tfidf_title__max_df': 0.4,\n",
       " 'estimator__features__tfidf_title__max_features': None,\n",
       " 'estimator__features__tfidf_title__min_df': 10,\n",
       " 'estimator__features__tfidf_title__ngram_range': (1, 3),\n",
       " 'estimator__features__tfidf_title__norm': u'l2',\n",
       " 'estimator__features__tfidf_title__preprocessor': <function src.wrangle.create_features.my_preproc_title>,\n",
       " 'estimator__features__tfidf_title__smooth_idf': True,\n",
       " 'estimator__features__tfidf_title__stop_words': 'english',\n",
       " 'estimator__features__tfidf_title__strip_accents': None,\n",
       " 'estimator__features__tfidf_title__sublinear_tf': False,\n",
       " 'estimator__features__tfidf_title__token_pattern': u'(?u)\\\\b\\\\w\\\\w+\\\\b',\n",
       " 'estimator__features__tfidf_title__tokenizer': <function src.wrangle.create_features.tokenize>,\n",
       " 'estimator__features__tfidf_title__use_idf': True,\n",
       " 'estimator__features__tfidf_title__vocabulary': None,\n",
       " 'estimator__features__transformer_list': [('tfidf_title',\n",
       "   TfidfVectorizer(analyzer=u'word', binary=False, decode_error=u'strict',\n",
       "           dtype=<type 'numpy.int64'>, encoding=u'utf-8', input=u'content',\n",
       "           lowercase=True, max_df=0.4, max_features=None, min_df=10,\n",
       "           ngram_range=(1, 3), norm=u'l2',\n",
       "           preprocessor=<function my_preproc_title at 0x1152f32a8>,\n",
       "           smooth_idf=True, stop_words='english', strip_accents=None,\n",
       "           sublinear_tf=False, token_pattern=u'(?u)\\\\b\\\\w\\\\w+\\\\b',\n",
       "           tokenizer=<function tokenize at 0x1152f31b8>, use_idf=True,\n",
       "           vocabulary=None)),\n",
       "  ('tfidf_text',\n",
       "   TfidfVectorizer(analyzer=u'word', binary=False, decode_error=u'strict',\n",
       "           dtype=<type 'numpy.int64'>, encoding=u'utf-8', input=u'content',\n",
       "           lowercase=True, max_df=0.4, max_features=None, min_df=10,\n",
       "           ngram_range=(1, 2), norm=u'l2',\n",
       "           preprocessor=<function my_preproc_text at 0x1152f3230>,\n",
       "           smooth_idf=True, stop_words='english', strip_accents=None,\n",
       "           sublinear_tf=False, token_pattern=u'(?u)\\\\b\\\\w\\\\w+\\\\b',\n",
       "           tokenizer=<function tokenize at 0x1152f31b8>, use_idf=True,\n",
       "           vocabulary=None)),\n",
       "  ('lda_title',\n",
       "   Pipeline(steps=[('lda_tf_title', CountVectorizer(analyzer=u'word', binary=False, decode_error=u'strict',\n",
       "           dtype=<type 'numpy.int64'>, encoding=u'utf-8', input=u'content',\n",
       "           lowercase=True, max_df=0.4, max_features=None, min_df=10,\n",
       "           ngram_range=(1, 3),\n",
       "           preprocessor=<function my_pre...p_tol=0.1, random_state=0,\n",
       "                topic_word_prior=None, total_samples=1000000.0, verbose=0))])),\n",
       "  ('lda_text',\n",
       "   Pipeline(steps=[('lda_tf_text', CountVectorizer(analyzer=u'word', binary=False, decode_error=u'strict',\n",
       "           dtype=<type 'numpy.int64'>, encoding=u'utf-8', input=u'content',\n",
       "           lowercase=True, max_df=0.4, max_features=None, min_df=10,\n",
       "           ngram_range=(1, 2),\n",
       "           preprocessor=<function my_prep...p_tol=0.1, random_state=0,\n",
       "                topic_word_prior=None, total_samples=1000000.0, verbose=0))]))],\n",
       " 'estimator__features__transformer_weights': None,\n",
       " 'estimator__model': LogisticRegression(C=1000000000.0, class_weight=None, dual=False,\n",
       "           fit_intercept=True, intercept_scaling=1, max_iter=100,\n",
       "           multi_class='ovr', n_jobs=1, penalty='l1', random_state=None,\n",
       "           solver='liblinear', tol=0.0001, verbose=0, warm_start=False),\n",
       " 'estimator__model__C': 1000000000.0,\n",
       " 'estimator__model__class_weight': None,\n",
       " 'estimator__model__dual': False,\n",
       " 'estimator__model__fit_intercept': True,\n",
       " 'estimator__model__intercept_scaling': 1,\n",
       " 'estimator__model__max_iter': 100,\n",
       " 'estimator__model__multi_class': 'ovr',\n",
       " 'estimator__model__n_jobs': 1,\n",
       " 'estimator__model__penalty': 'l1',\n",
       " 'estimator__model__random_state': None,\n",
       " 'estimator__model__solver': 'liblinear',\n",
       " 'estimator__model__tol': 0.0001,\n",
       " 'estimator__model__verbose': 0,\n",
       " 'estimator__model__warm_start': False,\n",
       " 'estimator__steps': [('features', FeatureUnion(n_jobs=1,\n",
       "          transformer_list=[('tfidf_title', TfidfVectorizer(analyzer=u'word', binary=False, decode_error=u'strict',\n",
       "           dtype=<type 'numpy.int64'>, encoding=u'utf-8', input=u'content',\n",
       "           lowercase=True, max_df=0.4, max_features=None, min_df=10,\n",
       "           ngram_range=(1, 3), norm=u'l2',\n",
       "           preproc...ol=0.1, random_state=0,\n",
       "                topic_word_prior=None, total_samples=1000000.0, verbose=0))]))],\n",
       "          transformer_weights=None)),\n",
       "  ('model', LogisticRegression(C=1000000000.0, class_weight=None, dual=False,\n",
       "             fit_intercept=True, intercept_scaling=1, max_iter=100,\n",
       "             multi_class='ovr', n_jobs=1, penalty='l1', random_state=None,\n",
       "             solver='liblinear', tol=0.0001, verbose=0, warm_start=False))],\n",
       " 'fit_params': {},\n",
       " 'iid': True,\n",
       " 'n_jobs': 1,\n",
       " 'param_grid': {'features__lda_text__lda_model_text__n_topics': [100, 10],\n",
       "  'features__lda_text__lda_tf_text__max_df': [0.4],\n",
       "  'features__lda_text__lda_tf_text__min_df': [10],\n",
       "  'features__lda_text__lda_tf_text__ngram_range': [(1, 1)],\n",
       "  'features__tfidf_text__max_df': [0.4],\n",
       "  'features__tfidf_text__max_features': [None],\n",
       "  'features__tfidf_text__min_df': [10],\n",
       "  'features__tfidf_text__ngram_range': [(1, 2)],\n",
       "  'features__tfidf_title__max_df': [0.4],\n",
       "  'features__tfidf_title__max_features': [None],\n",
       "  'features__tfidf_title__min_df': [10],\n",
       "  'features__tfidf_title__ngram_range': [(1, 3)],\n",
       "  'model__C': [10, 100, 1000000000],\n",
       "  'model__penalty': ['l1']},\n",
       " 'pre_dispatch': '2*n_jobs',\n",
       " 'refit': True,\n",
       " 'scoring': 'roc_auc',\n",
       " 'verbose': 10}"
      ]
     },
     "execution_count": 55,
     "metadata": {},
     "output_type": "execute_result"
    }
   ],
   "source": [
    "model.get_params()"
   ]
  },
  {
   "cell_type": "code",
   "execution_count": 57,
   "metadata": {
    "collapsed": true
   },
   "outputs": [],
   "source": [
    "subject_name = 'Taxation'"
   ]
  },
  {
   "cell_type": "code",
   "execution_count": null,
   "metadata": {
    "collapsed": false
   },
   "outputs": [],
   "source": [
    "us_y_probs = model.predict_proba(X)[:, 1]"
   ]
  },
  {
   "cell_type": "code",
   "execution_count": null,
   "metadata": {
    "collapsed": false
   },
   "outputs": [],
   "source": [
    "from src.ingest.setup_database import US_Score\n",
    "from src.ingest.setup_database import NY_Score\n",
    "from sqlalchemy.orm import sessionmaker\n",
    "from sqlalchemy import create_engine"
   ]
  },
  {
   "cell_type": "code",
   "execution_count": null,
   "metadata": {
    "collapsed": false
   },
   "outputs": [],
   "source": [
    "import psycopg2\n",
    "import pandas as pd\n",
    "# connect:\n",
    "con = None\n",
    "con = psycopg2.connect(database = 'bills_db', user = 'Joel')\n",
    "\n",
    "# query:\n",
    "sql_query = \"\"\"\n",
    "SELECT * FROM us_bills;\n",
    "\"\"\"\n",
    "us_bills = pd.read_sql_query(sql_query,con)"
   ]
  },
  {
   "cell_type": "code",
   "execution_count": null,
   "metadata": {
    "collapsed": true
   },
   "outputs": [],
   "source": [
    "import psycopg2\n",
    "import pandas as pd\n",
    "# connect:\n",
    "con = None\n",
    "con = psycopg2.connect(database = 'bills_db', user = 'Joel')\n",
    "\n",
    "# query:\n",
    "sql_query = \"\"\"\n",
    "SELECT * FROM ny_bills;\n",
    "\"\"\"\n",
    "ny_bills = pd.read_sql_query(sql_query,con)"
   ]
  },
  {
   "cell_type": "code",
   "execution_count": null,
   "metadata": {
    "collapsed": false
   },
   "outputs": [],
   "source": [
    "len(ny_bills)"
   ]
  },
  {
   "cell_type": "code",
   "execution_count": null,
   "metadata": {
    "collapsed": true
   },
   "outputs": [],
   "source": [
    "X_ny = make_x_values(ny_bills)"
   ]
  },
  {
   "cell_type": "code",
   "execution_count": null,
   "metadata": {
    "collapsed": true
   },
   "outputs": [],
   "source": [
    "ny_y_probs = model.predict_proba(X_ny)[:, 1]"
   ]
  },
  {
   "cell_type": "code",
   "execution_count": null,
   "metadata": {
    "collapsed": false
   },
   "outputs": [],
   "source": [
    "len(ny_y_probs)"
   ]
  },
  {
   "cell_type": "code",
   "execution_count": null,
   "metadata": {
    "collapsed": true
   },
   "outputs": [],
   "source": [
    "engine = create_engine('postgres://%s@localhost/%s' % ('Joel', 'bills_db'))\n",
    "\n",
    "# Open a session and connect to the database engine\n",
    "Session = sessionmaker(bind=engine)\n",
    "session = Session()\n",
    "\n",
    "for i, bill in enumerate(ny_y_probs):\n",
    "\n",
    "    one_bill = NY_Score(subject=subject_name, bill_num=ny_bills.ix[i, 'bill_num'],\n",
    "                        score=ny_y_probs[i])\n",
    "    session.add(one_bill)\n",
    "session.commit()\n",
    "session.close()"
   ]
  },
  {
   "cell_type": "code",
   "execution_count": null,
   "metadata": {
    "collapsed": false
   },
   "outputs": [],
   "source": [
    "engine = create_engine('postgres://%s@localhost/%s' % ('Joel', 'bills_db'))\n",
    "\n",
    "# Open a session and connect to the database engine\n",
    "Session = sessionmaker(bind=engine)\n",
    "session = Session()\n",
    "\n",
    "for i, bill in enumerate(us_y_probs):\n",
    "\n",
    "    one_bill = US_Score(subject=subject_name, bill_num=us_bills.ix[i, 'bill_num'],\n",
    "                        actual=bool(y[i]), score=us_y_probs[i])\n",
    "    session.add(one_bill)\n",
    "session.commit()\n",
    "session.close()"
   ]
  }
 ],
 "metadata": {
  "kernelspec": {
   "display_name": "Python [insight]",
   "language": "python",
   "name": "Python [insight]"
  },
  "language_info": {
   "codemirror_mode": {
    "name": "ipython",
    "version": 2
   },
   "file_extension": ".py",
   "mimetype": "text/x-python",
   "name": "python",
   "nbconvert_exporter": "python",
   "pygments_lexer": "ipython2",
   "version": "2.7.12"
  }
 },
 "nbformat": 4,
 "nbformat_minor": 0
}
