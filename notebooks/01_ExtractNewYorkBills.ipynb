{
 "cells": [
  {
   "cell_type": "markdown",
   "metadata": {},
   "source": [
    "# Load NY Bills"
   ]
  },
  {
   "cell_type": "markdown",
   "metadata": {},
   "source": [
    "Need to loop over all of the legislation (10,000s) by 1,000 at a time. Extract the bill IDs, and then extract the bill text one-by-one. After retrieving the bill text, store it to a database on AWS with some associated metadata."
   ]
  },
  {
   "cell_type": "markdown",
   "metadata": {},
   "source": [
    "## First, load the API key"
   ]
  },
  {
   "cell_type": "code",
   "execution_count": 1,
   "metadata": {
    "collapsed": false,
    "jupyter": {
     "outputs_hidden": false
    }
   },
   "outputs": [],
   "source": [
    "import requests\n",
    "import time\n",
    "my_key = open('/Users/joeljoel/ny_bill_keys.txt', 'r').readline().strip()"
   ]
  },
  {
   "cell_type": "code",
   "execution_count": 3,
   "metadata": {},
   "outputs": [],
   "source": [
    "# Set up the database to save the results of the new york bill table\n",
    "# There will be one table for the New York bills and one for U.S. bills\n",
    "## Python packages - you may have to pip install sqlalchemy, sqlalchemy_utils, and psycopg2.\n",
    "from sqlalchemy import create_engine\n",
    "from sqlalchemy_utils import database_exists, create_database\n",
    "import psycopg2\n",
    "import pandas as pd"
   ]
  },
  {
   "cell_type": "code",
   "execution_count": 4,
   "metadata": {
    "collapsed": false,
    "jupyter": {
     "outputs_hidden": false
    }
   },
   "outputs": [
    {
     "name": "stdout",
     "output_type": "stream",
     "text": [
      "postgresql://joeljoel@localhost/bills_db\n",
      "True\n"
     ]
    }
   ],
   "source": [
    "#In Python: Define a database name\n",
    "dbname = 'bills_db'\n",
    "username = 'joeljoel'\n",
    "## 'engine' is a connection to a database\n",
    "## Here, we're using postgres, but sqlalchemy can connect to other things too.\n",
    "engine = create_engine('postgresql://%s@localhost/%s'%(username,dbname))\n",
    "print(engine.url)\n",
    "\n",
    "## create a database (if it doesn't exist)\n",
    "if not database_exists(engine.url):\n",
    "    create_database(engine.url)\n",
    "print(database_exists(engine.url))"
   ]
  },
  {
   "cell_type": "markdown",
   "metadata": {},
   "source": [
    "## Create a base class for all relevant tables connected to New York bills"
   ]
  },
  {
   "cell_type": "code",
   "execution_count": 5,
   "metadata": {},
   "outputs": [
    {
     "name": "stderr",
     "output_type": "stream",
     "text": [
      "/var/folders/qb/nxfghts14xv2gh9svxdkp3d40000gn/T/ipykernel_12443/2347305088.py:2: MovedIn20Warning: The ``declarative_base()`` function is now available as sqlalchemy.orm.declarative_base(). (deprecated since: 2.0) (Background on SQLAlchemy 2.0 at: https://sqlalche.me/e/b8d9)\n",
      "  Base = declarative_base()\n"
     ]
    }
   ],
   "source": [
    "from sqlalchemy.ext.declarative import declarative_base\n",
    "Base = declarative_base()"
   ]
  },
  {
   "cell_type": "markdown",
   "metadata": {},
   "source": [
    "## Define the New York Bill table with a unique number, a name, and text"
   ]
  },
  {
   "cell_type": "code",
   "execution_count": 6,
   "metadata": {
    "collapsed": false,
    "jupyter": {
     "outputs_hidden": false
    }
   },
   "outputs": [],
   "source": [
    "from sqlalchemy import Column, Integer, String\n",
    "class New_York_Bill(Base):\n",
    "    __tablename__ = 'ny_bills'\n",
    "    bill_num = Column(String, primary_key=True)\n",
    "    bill_name = Column(String)\n",
    "    bill_text = Column(String)\n",
    "\n",
    "    def __repr__(self):\n",
    "        return \"<New_York_Bill(bill_num='%s', bill_name='%s', bill_text='%s')>\" % (\n",
    "            self.bill_num, self.bill_name, self.bill_text)"
   ]
  },
  {
   "cell_type": "code",
   "execution_count": 7,
   "metadata": {
    "collapsed": false,
    "jupyter": {
     "outputs_hidden": false
    }
   },
   "outputs": [],
   "source": [
    "ny_bills_table = New_York_Bill.__table__"
   ]
  },
  {
   "cell_type": "code",
   "execution_count": 8,
   "metadata": {},
   "outputs": [],
   "source": [
    "# Actually create the table\n",
    "Base.metadata.create_all(engine)"
   ]
  },
  {
   "cell_type": "code",
   "execution_count": 9,
   "metadata": {},
   "outputs": [],
   "source": [
    "from sqlalchemy.orm import sessionmaker\n",
    "Session = sessionmaker(bind=engine)\n",
    "session = Session()"
   ]
  },
  {
   "cell_type": "code",
   "execution_count": 10,
   "metadata": {
    "collapsed": false,
    "jupyter": {
     "outputs_hidden": false
    }
   },
   "outputs": [],
   "source": [
    "# ny_bills_table.drop(engine)\n",
    "# This seems painful. Drop the table from the command line before running the command below."
   ]
  },
  {
   "cell_type": "code",
   "execution_count": 11,
   "metadata": {
    "collapsed": false,
    "jupyter": {
     "outputs_hidden": false
    }
   },
   "outputs": [],
   "source": [
    "#requests.get('http://legislation.nysenate.gov/api/3/bills/2015/A02257?view=only_fullText&key=' + my_key).json()"
   ]
  },
  {
   "cell_type": "markdown",
   "metadata": {},
   "source": [
    "## Access and store NY bills"
   ]
  },
  {
   "cell_type": "code",
   "execution_count": 12,
   "metadata": {
    "collapsed": false,
    "jupyter": {
     "outputs_hidden": false
    }
   },
   "outputs": [
    {
     "name": "stdout",
     "output_type": "stream",
     "text": [
      "0 A454A delta 3.930670976638794 cum delta 3.930670976638794\n",
      "100 S628 delta 85.08962512016296 cum delta 89.02029609680176\n",
      "200 S722 delta 85.84051990509033 cum delta 174.8608160018921\n",
      "300 A549 delta 85.78867602348328 cum delta 260.64949202537537\n",
      "400 A628 delta 87.2665159702301 cum delta 347.91600799560547\n",
      "500 S855 delta 85.38441205024719 cum delta 433.30042004585266\n",
      "600 S935 delta 86.1633870601654 cum delta 519.4638071060181\n",
      "700 A746 delta 84.55093789100647 cum delta 604.0147449970245\n",
      "800 J22 delta 85.22870182991028 cum delta 689.2434468269348\n",
      "900 J66 delta 84.82132029533386 cum delta 774.0647671222687\n",
      "0 A908 delta 87.78514575958252 cum delta 861.8499128818512\n",
      "100 A982 delta 87.8155951499939 cum delta 949.6655080318451\n",
      "200 S1056 delta 84.06251215934753 cum delta 1033.7280201911926\n",
      "300 S1097 delta 84.70354199409485 cum delta 1118.4315621852875\n",
      "400 A1156A delta 86.0862627029419 cum delta 1204.5178248882294\n",
      "500 A1232A delta 87.80303716659546 cum delta 1292.3208620548248\n",
      "600 S1209 delta 82.77019190788269 cum delta 1375.0910539627075\n",
      "700 A1316 delta 84.08349418640137 cum delta 1459.174548149109\n",
      "800 S1317 delta 86.26631784439087 cum delta 1545.4408659934998\n",
      "900 A1336 delta 87.82217216491699 cum delta 1633.2630381584167\n",
      "0 A1396 delta 91.0138578414917 cum delta 1724.2768959999084\n",
      "100 A1459 delta 83.55565595626831 cum delta 1807.8325519561768\n",
      "200 A1564 delta 85.804771900177 cum delta 1893.6373238563538\n",
      "300 A1667 delta 84.8436861038208 cum delta 1978.4810099601746\n",
      "400 A1754 delta 84.80043697357178 cum delta 2063.2814469337463\n",
      "500 S1532 delta 85.4721930027008 cum delta 2148.753639936447\n",
      "600 A1845 delta 85.17470812797546 cum delta 2233.9283480644226\n",
      "700 A1927 delta 82.54740691184998 cum delta 2316.4757549762726\n",
      "800 A1982A delta 84.18105006217957 cum delta 2400.656805038452\n",
      "900 S1702 delta 88.71910977363586 cum delta 2489.375914812088\n",
      "0 S1798A delta 89.86416220664978 cum delta 2579.240077018738\n",
      "100 A2053 delta 84.62623000144958 cum delta 2663.8663070201874\n",
      "200 A2123A delta 86.68605780601501 cum delta 2750.5523648262024\n",
      "300 A2227 delta 85.97859930992126 cum delta 2836.5309641361237\n",
      "400 A2282 delta 84.12539792060852 cum delta 2920.656362056732\n",
      "500 J207 delta 85.27950811386108 cum delta 3005.9358701705933\n",
      "600 A2433 delta 84.7472517490387 cum delta 3090.683121919632\n",
      "700 J215 delta 84.92236614227295 cum delta 3175.605488061905\n",
      "800 A2572 delta 84.38952279090881 cum delta 3259.9950108528137\n",
      "900 A2681 delta 84.2858612537384 cum delta 3344.280872106552\n",
      "0 J275 delta 90.48284888267517 cum delta 3434.7637209892273\n",
      "100 A2868 delta 84.33486795425415 cum delta 3519.0985889434814\n",
      "200 A2958 delta 88.1664981842041 cum delta 3607.2650871276855\n",
      "300 S2061B delta 86.32235383987427 cum delta 3693.58744096756\n",
      "400 S2121 delta 85.24587392807007 cum delta 3778.83331489563\n",
      "500 S1992 delta 84.05504417419434 cum delta 3862.888359069824\n",
      "600 S2257A delta 95.74214696884155 cum delta 3958.6305060386658\n",
      "700 S2328A delta 86.28154397010803 cum delta 4044.912050008774\n",
      "800 A3132 delta 86.51628494262695 cum delta 4131.428334951401\n",
      "900 A3224 delta 85.66885924339294 cum delta 4217.097194194794\n",
      "0 A3289 delta 90.53545880317688 cum delta 4307.632652997971\n",
      "100 A3389B delta 85.79830598831177 cum delta 4393.430958986282\n",
      "200 S2403 delta 86.3345890045166 cum delta 4479.765547990799\n",
      "300 S2431 delta 86.92750096321106 cum delta 4566.69304895401\n",
      "400 S2513A delta 84.04702305793762 cum delta 4650.740072011948\n",
      "500 A3593 delta 83.91891407966614 cum delta 4734.658986091614\n",
      "600 S2585 delta 84.03417086601257 cum delta 4818.693156957626\n",
      "700 A3759 delta 94.73226404190063 cum delta 4913.425420999527\n",
      "800 A3819B delta 86.55872821807861 cum delta 4999.984149217606\n",
      "900 S2657A delta 83.23571181297302 cum delta 5083.219861030579\n",
      "0 S2719A delta 103.26340103149414 cum delta 5186.483262062073\n",
      "100 A3925 delta 84.00383996963501 cum delta 5270.487102031708\n",
      "200 A4039 delta 84.10009098052979 cum delta 5354.587193012238\n",
      "300 A4076 delta 91.59154391288757 cum delta 5446.178736925125\n",
      "400 A4166 delta 85.7372739315033 cum delta 5531.916010856628\n",
      "500 A4232 delta 89.38490223884583 cum delta 5621.300913095474\n",
      "600 A4263A delta 91.8642988204956 cum delta 5713.16521191597\n",
      "700 A4339 delta 84.50735211372375 cum delta 5797.672564029694\n",
      "800 J418 delta 86.48911809921265 cum delta 5884.161682128906\n",
      "900 S3034 delta 83.54440975189209 cum delta 5967.706091880798\n",
      "0 A4473 delta 89.58129215240479 cum delta 6057.287384033203\n",
      "100 S3183 delta 83.23010492324829 cum delta 6140.517488956451\n",
      "200 A4555 delta 84.92562317848206 cum delta 6225.4431121349335\n",
      "300 S3234 delta 83.79564785957336 cum delta 6309.238759994507\n",
      "400 S3299 delta 83.33826422691345 cum delta 6392.57702422142\n",
      "500 A4633 delta 85.54065680503845 cum delta 6478.117681026459\n",
      "600 A4724A delta 82.35604500770569 cum delta 6560.473726034164\n",
      "700 A4771 delta 86.2162389755249 cum delta 6646.689965009689\n",
      "800 A4837 delta 84.51707696914673 cum delta 6731.207041978836\n",
      "900 S3435A delta 84.72457695007324 cum delta 6815.931618928909\n",
      "0 J527 delta 88.05532217025757 cum delta 6903.986941099167\n",
      "100 A5042 delta 83.04409193992615 cum delta 6987.031033039093\n",
      "200 S3517B delta 83.20902705192566 cum delta 7070.240060091019\n",
      "300 A5105A delta 85.20207381248474 cum delta 7155.442133903503\n",
      "400 A5178 delta 82.96162700653076 cum delta 7238.403760910034\n",
      "500 A5205 delta 84.15987515449524 cum delta 7322.563636064529\n",
      "600 A5246A delta 85.84024500846863 cum delta 7408.403881072998\n",
      "700 S3749 delta 83.21926307678223 cum delta 7491.62314414978\n",
      "800 A5310 delta 84.32480883598328 cum delta 7575.947952985764\n",
      "900 S3843 delta 85.42789196968079 cum delta 7661.375844955444\n",
      "0 S3905 delta 92.18842506408691 cum delta 7753.564270019531\n",
      "100 S3927 delta 85.14213705062866 cum delta 7838.70640707016\n",
      "200 J710 delta 84.18960309028625 cum delta 7922.896010160446\n",
      "300 S3973A delta 83.30796980857849 cum delta 8006.203979969025\n",
      "400 S4035 delta 84.06523895263672 cum delta 8090.269218921661\n",
      "500 A5537 delta 84.80666017532349 cum delta 8175.075879096985\n",
      "600 A5564 delta 83.22490286827087 cum delta 8258.300781965256\n",
      "700 K160 delta 84.67036890983582 cum delta 8342.971150875092\n",
      "800 A5684 delta 85.5527970790863 cum delta 8428.523947954178\n",
      "900 A5772 delta 83.67430210113525 cum delta 8512.198250055313\n",
      "0 J851 delta 89.49781799316406 cum delta 8601.696068048477\n",
      "100 J885 delta 83.70976996421814 cum delta 8685.405838012695\n",
      "200 A5947 delta 85.90162086486816 cum delta 8771.307458877563\n",
      "300 A6017 delta 91.56533026695251 cum delta 8862.872789144516\n",
      "400 A6040B delta 97.89344787597656 cum delta 8960.766237020493\n",
      "500 S4310A delta 83.87751889228821 cum delta 9044.64375591278\n",
      "600 S4327A delta 82.58789920806885 cum delta 9127.23165512085\n",
      "700 A6172 delta 83.63668489456177 cum delta 9210.868340015411\n",
      "800 A6219A delta 84.03563284873962 cum delta 9294.903972864151\n",
      "900 S4404B delta 83.36550402641296 cum delta 9378.269476890564\n",
      "0 A6280 delta 90.32533621788025 cum delta 9468.594813108444\n",
      "100 J1107 delta 83.48847270011902 cum delta 9552.083285808563\n",
      "200 A6389A delta 82.63947796821594 cum delta 9634.72276377678\n",
      "300 S4485 delta 84.12533617019653 cum delta 9718.848099946976\n",
      "400 A6500 delta 87.31111907958984 cum delta 9806.159219026566\n",
      "500 A6546 delta 85.67643284797668 cum delta 9891.835651874542\n",
      "600 A6588 delta 84.24368524551392 cum delta 9976.079337120056\n",
      "700 A6630 delta 83.31075692176819 cum delta 10059.390094041824\n",
      "800 A6661 delta 83.63826084136963 cum delta 10143.028354883194\n",
      "900 K290 delta 83.91433119773865 cum delta 10226.942686080933\n",
      "0 S4666 delta 95.79566383361816 cum delta 10322.73834991455\n",
      "100 A6817 delta 84.75638699531555 cum delta 10407.494736909866\n",
      "200 S4697 delta 84.56826090812683 cum delta 10492.062997817993\n",
      "300 A6924 delta 83.43432331085205 cum delta 10575.497321128845\n",
      "400 A6964 delta 86.7093448638916 cum delta 10662.206665992737\n",
      "500 A6991 delta 86.92473602294922 cum delta 10749.131402015686\n",
      "600 J1535 delta 84.2461850643158 cum delta 10833.377587080002\n",
      "700 J1591 delta 89.11669301986694 cum delta 10922.494280099869\n",
      "800 J1674 delta 85.035649061203 cum delta 11007.529929161072\n",
      "900 S4861 delta 84.87667679786682 cum delta 11092.406605958939\n",
      "0 A7070 delta 94.51579904556274 cum delta 11186.922405004501\n",
      "100 J1710 delta 82.73373198509216 cum delta 11269.656136989594\n",
      "200 A7137 delta 83.47205400466919 cum delta 11353.128190994263\n",
      "300 S4983 delta 85.74674010276794 cum delta 11438.87493109703\n",
      "400 K422 delta 84.44194984436035 cum delta 11523.316880941391\n",
      "500 J1813 delta 85.43700313568115 cum delta 11608.753884077072\n",
      "600 S5098A delta 83.9008047580719 cum delta 11692.654688835144\n",
      "700 J1908 delta 84.0764012336731 cum delta 11776.731090068817\n",
      "800 J1939 delta 86.31710004806519 cum delta 11863.048190116882\n",
      "900 A7328A delta 85.30622792243958 cum delta 11948.354418039322\n",
      "0 J1991 delta 89.81814289093018 cum delta 12038.172560930252\n",
      "100 A7407A delta 86.00487399101257 cum delta 12124.177434921265\n",
      "200 S5235 delta 84.00701713562012 cum delta 12208.184452056885\n",
      "300 J2141 delta 84.68972492218018 cum delta 12292.874176979065\n",
      "400 S5318 delta 85.81844401359558 cum delta 12378.69262099266\n",
      "500 S5374 delta 83.96130919456482 cum delta 12462.653930187225\n",
      "600 J2178 delta 82.95775175094604 cum delta 12545.611681938171\n",
      "700 S5516A delta 84.80273604393005 cum delta 12630.414417982101\n",
      "800 J2212 delta 85.56321907043457 cum delta 12715.977637052536\n",
      "900 K534 delta 86.16682195663452 cum delta 12802.14445900917\n",
      "0 A7609 delta 100.11240196228027 cum delta 12902.25686097145\n",
      "100 J2328 delta 84.69032192230225 cum delta 12986.947182893753\n",
      "200 A7696 delta 90.25445199012756 cum delta 13077.20163488388\n",
      "300 J2433 delta 83.88254809379578 cum delta 13161.084182977676\n",
      "400 A7795 delta 88.51481699943542 cum delta 13249.598999977112\n",
      "500 A7844A delta 89.60353398323059 cum delta 13339.202533960342\n",
      "600 A7896 delta 87.76237607002258 cum delta 13426.964910030365\n",
      "700 S5729 delta 89.3552360534668 cum delta 13516.320146083832\n",
      "800 J2566 delta 88.33951783180237 cum delta 13604.659663915634\n",
      "900 A7998A delta 87.52569818496704 cum delta 13692.185362100601\n",
      "0 S5811 delta 93.48223900794983 cum delta 13785.667601108551\n",
      "100 J2685 delta 86.8070650100708 cum delta 13872.474666118622\n",
      "200 A8077 delta 86.94279408454895 cum delta 13959.41746020317\n",
      "300 K649 delta 92.33788895606995 cum delta 14051.75534915924\n",
      "400 K659 delta 88.76546478271484 cum delta 14140.520813941956\n",
      "500 S5900A delta 88.53013014793396 cum delta 14229.05094408989\n",
      "600 A8189 delta 85.01608777046204 cum delta 14314.067031860352\n",
      "700 J2903 delta 85.50082111358643 cum delta 14399.567852973938\n",
      "800 S5973 delta 89.16912889480591 cum delta 14488.736981868744\n",
      "900 J2986 delta 86.92037916183472 cum delta 14575.657361030579\n",
      "0 J3019 delta 89.75187087059021 cum delta 14665.409231901169\n",
      "100 A8302 delta 88.33970522880554 cum delta 14753.748937129974\n",
      "200 A8352 delta 90.44611096382141 cum delta 14844.195048093796\n",
      "300 J3069 delta 86.50218296051025 cum delta 14930.697231054306\n",
      "400 A8488 delta 87.72892999649048 cum delta 15018.426161050797\n",
      "500 A8573 delta 94.59502100944519 cum delta 15113.021182060242\n",
      "600 S6270A delta 91.08472895622253 cum delta 15204.105911016464\n",
      "700 A8640 delta 89.99508810043335 cum delta 15294.100999116898\n",
      "800 J3168 delta 86.72025895118713 cum delta 15380.821258068085\n",
      "900 A8644 delta 85.36733484268188 cum delta 15466.188592910767\n",
      "0 J3275 delta 93.91754031181335 cum delta 15560.10613322258\n",
      "100 S6458 delta 87.07871890068054 cum delta 15647.18485212326\n",
      "200 J3347 delta 95.60970497131348 cum delta 15742.794557094574\n",
      "300 K889 delta 88.67533993721008 cum delta 15831.469897031784\n",
      "400 S6509 delta 88.28506803512573 cum delta 15919.75496506691\n",
      "500 J3488 delta 86.7221999168396 cum delta 16006.47716498375\n",
      "600 J3526 delta 88.49539184570312 cum delta 16094.972556829453\n",
      "700 S6585 delta 87.5543282032013 cum delta 16182.526885032654\n",
      "800 A9157B delta 88.02793002128601 cum delta 16270.55481505394\n",
      "900 K932 delta 90.4498770236969 cum delta 16361.004692077637\n",
      "0 J3697 delta 92.3139967918396 cum delta 16453.318688869476\n",
      "100 J3747 delta 88.16284894943237 cum delta 16541.48153781891\n",
      "200 S6702 delta 86.33671236038208 cum delta 16627.81825017929\n",
      "300 S6728 delta 96.18910884857178 cum delta 16724.007359027863\n",
      "400 J3887 delta 87.77028584480286 cum delta 16811.777644872665\n",
      "500 K966 delta 86.38892412185669 cum delta 16898.166568994522\n",
      "600 J3984 delta 87.66547107696533 cum delta 16985.832040071487\n",
      "700 S6826 delta 87.42822098731995 cum delta 17073.260261058807\n",
      "800 A9390 delta 89.35248613357544 cum delta 17162.612747192383\n",
      "900 S6863 delta 86.37869787216187 cum delta 17248.991445064545\n",
      "0 A9442 delta 100.08616995811462 cum delta 17349.07761502266\n",
      "100 A9461 delta 88.96157693862915 cum delta 17438.03919196129\n",
      "200 J4231 delta 91.12529301643372 cum delta 17529.164484977722\n",
      "300 A9485 delta 85.86519598960876 cum delta 17615.02968096733\n",
      "400 S6987 delta 87.87753200531006 cum delta 17702.90721297264\n",
      "500 J4410 delta 87.81927394866943 cum delta 17790.72648692131\n",
      "600 A9570A delta 93.27470898628235 cum delta 17884.001195907593\n",
      "700 J4491 delta 87.14733719825745 cum delta 17971.14853310585\n",
      "800 J4526 delta 88.98366498947144 cum delta 18060.13219809532\n",
      "900 A9640B delta 89.83296775817871 cum delta 18149.9651658535\n",
      "0 S7107 delta 93.43718409538269 cum delta 18243.402349948883\n",
      "100 J4654 delta 87.85080218315125 cum delta 18331.253152132034\n",
      "200 J4708 delta 84.32966876029968 cum delta 18415.582820892334\n",
      "300 S7165 delta 81.81645607948303 cum delta 18497.399276971817\n",
      "400 A9761 delta 86.22399306297302 cum delta 18583.62327003479\n",
      "500 J4822 delta 83.68786883354187 cum delta 18667.311138868332\n",
      "600 S7239 delta 81.60369300842285 cum delta 18748.914831876755\n",
      "700 J4837 delta 81.48616409301758 cum delta 18830.400995969772\n",
      "800 A9847 delta 83.30426692962646 cum delta 18913.7052628994\n",
      "900 J4967 delta 81.70507311820984 cum delta 18995.41033601761\n",
      "0 S7373 delta 87.06054306030273 cum delta 19082.47087907791\n",
      "100 J5070 delta 82.98880171775818 cum delta 19165.45968079567\n",
      "200 A9931 delta 82.4138011932373 cum delta 19247.873481988907\n",
      "300 J5215 delta 81.90461921691895 cum delta 19329.778101205826\n",
      "400 A9989 delta 83.00881171226501 cum delta 19412.78691291809\n",
      "500 A10000 delta 84.4035120010376 cum delta 19497.19042491913\n",
      "600 J5320 delta 81.6505401134491 cum delta 19578.840965032578\n",
      "700 J5394 delta 82.2673761844635 cum delta 19661.10834121704\n",
      "800 A10025 delta 82.5626916885376 cum delta 19743.67103290558\n",
      "900 A10061 delta 83.34449505805969 cum delta 19827.01552796364\n",
      "0 J5486 delta 88.70443081855774 cum delta 19915.719958782196\n",
      "100 J5534 delta 81.42184519767761 cum delta 19997.141803979874\n",
      "200 S7676 delta 84.44035196304321 cum delta 20081.582155942917\n",
      "300 J5594 delta 82.5939838886261 cum delta 20164.176139831543\n",
      "400 S7803 delta 83.27809834480286 cum delta 20247.454238176346\n",
      "500 J5690 delta 81.61210680007935 cum delta 20329.066344976425\n",
      "600 K1347 delta 82.89284014701843 cum delta 20411.959185123444\n",
      "700 K1369 delta 82.4688229560852 cum delta 20494.42800807953\n",
      "800 J5823 delta 81.82729291915894 cum delta 20576.255300998688\n",
      "900 S7878 delta 82.43259119987488 cum delta 20658.687892198563\n",
      "0 A10307 delta 86.83283472061157 cum delta 20745.520726919174\n",
      "100 K1393 delta 85.24357914924622 cum delta 20830.76430606842\n",
      "200 A10409 delta 82.83118271827698 cum delta 20913.595488786697\n",
      "300 J6033 delta 82.75999617576599 cum delta 20996.355484962463\n",
      "400 A10493 delta 86.13142800331116 cum delta 21082.486912965775\n",
      "500 A10544 delta 82.04531812667847 cum delta 21164.532231092453\n",
      "600 J6106 delta 82.22530674934387 cum delta 21246.757537841797\n",
      "700 S8025 delta 82.25348401069641 cum delta 21329.011021852493\n",
      "800 J6199 delta 82.29321122169495 cum delta 21411.30423307419\n",
      "900 K1492 delta 88.82407093048096 cum delta 21500.12830400467\n",
      "0 J6274 delta 88.12031102180481 cum delta 21588.248615026474\n",
      "100 J6364 delta 82.48361802101135 cum delta 21670.732233047485\n",
      "200 A10681 delta 83.92121815681458 cum delta 21754.6534512043\n",
      "300 S8134 delta 85.52190065383911 cum delta 21840.17535185814\n",
      "400 K1562 delta 83.5529043674469 cum delta 21923.728256225586\n",
      "500 R6508 delta 84.07128477096558 cum delta 22007.79954099655\n",
      "600 A10747 delta 82.22673010826111 cum delta 22090.026271104813\n"
     ]
    }
   ],
   "source": [
    "# Run through a loop getting files 1,000 at a time until we receive all files\n",
    "offset = 0\n",
    "year = 2015\n",
    "limit = 1000\n",
    "# limit = 10\n",
    "key = my_key\n",
    "my_max = 50000\n",
    "# my_max = 50\n",
    "# all requests can be accessed using the nysenate\n",
    "request_string = 'http://legislation.nysenate.gov/api/3/bills/{0}?limit={1}&offset={2}&key={3}'.format(year, \n",
    "                                                                                                        limit, \n",
    "                                                                                                        offset,\n",
    "                                                                                                        key)\n",
    "# The list of the first n bills (based on limit) bills; bring them in a connect them to json\n",
    "all_bills = requests.get(request_string).json()\n",
    "# print(all_bills)\n",
    "start_time = time.time()\n",
    "right_now = start_time\n",
    "while ((all_bills['responseType'] == 'bill-info list') and offset < my_max):\n",
    "    # print(all_bills['offsetStart'])\n",
    "    # update offset to get the next 1000 bills\n",
    "    offset += limit\n",
    "    request_string = 'http://legislation.nysenate.gov/api/3/bills/{0}?limit={1}&offset={2}&key={3}'.format(year, \n",
    "                                                                                                        limit, \n",
    "                                                                                                        offset,\n",
    "                                                                                                        key)\n",
    "    all_bills = requests.get(request_string).json()\n",
    "    \n",
    "    if (all_bills['responseType'] == 'bill-info list'):\n",
    "        # unfortunately, we need to access the text of the bills one-by-one\n",
    "        for i, bill in enumerate(all_bills['result']['items']):\n",
    "            bill_num = bill['printNo']\n",
    "            single_request = 'http://legislation.nysenate.gov/api/3/bills/{0}/{1}?view=only_fullText&key={2}'.format(\n",
    "            year, bill_num, my_key)\n",
    "            bill_data = requests.get(single_request).json()\n",
    "            bill_text = bill_data['result']['fullText']\n",
    "            \n",
    "            # prepare the bill for upload into the table\n",
    "            one_bill = New_York_Bill(bill_num=bill_num, bill_name=bill['title'], bill_text=bill_text)\n",
    "            session.add(one_bill)\n",
    "            # we may break the api if we move too quickly so pause for a tenth of a second\n",
    "            time.sleep(.01)\n",
    "            if i % 100 == 0:\n",
    "                last_one = right_now\n",
    "                right_now = time.time()\n",
    "                print(i, bill_num, \"delta\", right_now - last_one, \"cum delta\", right_now - start_time)\n",
    "    time.sleep(2)\n",
    "    session.commit()"
   ]
  },
  {
   "cell_type": "markdown",
   "metadata": {},
   "source": [
    "## Once bills are all loaded in Postgresql, explore a bit"
   ]
  },
  {
   "cell_type": "code",
   "execution_count": 13,
   "metadata": {
    "collapsed": false,
    "jupyter": {
     "outputs_hidden": false
    }
   },
   "outputs": [],
   "source": [
    "from sqlalchemy import text\n",
    "result = session.query(New_York_Bill).from_statement(text(\"SELECT * FROM ny_bills\"))"
   ]
  },
  {
   "cell_type": "code",
   "execution_count": 14,
   "metadata": {
    "collapsed": false,
    "jupyter": {
     "outputs_hidden": false
    }
   },
   "outputs": [],
   "source": [
    "all_bills = result.all()"
   ]
  },
  {
   "cell_type": "code",
   "execution_count": 15,
   "metadata": {
    "collapsed": false,
    "jupyter": {
     "outputs_hidden": false
    }
   },
   "outputs": [
    {
     "data": {
      "text/plain": [
       "25613"
      ]
     },
     "execution_count": 15,
     "metadata": {},
     "output_type": "execute_result"
    }
   ],
   "source": [
    "len(all_bills)"
   ]
  },
  {
   "cell_type": "code",
   "execution_count": 16,
   "metadata": {
    "collapsed": false,
    "jupyter": {
     "outputs_hidden": false
    }
   },
   "outputs": [
    {
     "data": {
      "text/plain": [
       "<New_York_Bill(bill_num='A454A', bill_name='Relates to the effectiveness of flexible rating for nonbusiness automobile insurance plans', bill_text='\n",
       "                           S T A T E   O F   N E W   Y O R K\n",
       "       ________________________________________________________________________\n",
       "\n",
       "                                          454\n",
       "\n",
       "                              2015-2016 Regular Sessions\n",
       "\n",
       "                                 I N  A S S E M B L Y\n",
       "\n",
       "                                      (PREFILED)\n",
       "\n",
       "                                    January 7, 2015\n",
       "                                      ___________\n",
       "\n",
       "       Introduced  by  M.  of  A.  CYMBROWITZ  -- read once and referred to the\n",
       "         Committee on Insurance\n",
       "\n",
       "       AN ACT to amend the insurance law, in relation to the  effectiveness  of\n",
       "         flexible rating for nonbusiness automobile insurance plans\n",
       "\n",
       "         THE  PEOPLE OF THE STATE OF NEW YORK, REPRESENTED IN SENATE AND ASSEM-\n",
       "       BLY, DO ENACT AS FOLLOWS:\n",
       "\n",
       "    1    Section 1. Section 2350 of the insurance law is amended  by  adding  a\n",
       "    2  new subsection (e) to read as follows:\n",
       "    3    (E)  THIS SECTION SHALL CEASE TO BE OF ANY FORCE AND EFFECT AFTER JUNE\n",
       "    4  30, 2018.\n",
       "    5    S 2. This act shall take effect immediately.\n",
       "\n",
       "\n",
       "\n",
       "\n",
       "\n",
       "\n",
       "\n",
       "        EXPLANATION--Matter in ITALICS (underscored) is new; matter in brackets\n",
       "                             [ ] is old law to be omitted.\n",
       "                                                                  LBD04722-01-5\n",
       "')>"
      ]
     },
     "execution_count": 16,
     "metadata": {},
     "output_type": "execute_result"
    }
   ],
   "source": [
    "all_bills[0]"
   ]
  },
  {
   "cell_type": "code",
   "execution_count": 17,
   "metadata": {
    "collapsed": false,
    "jupyter": {
     "outputs_hidden": false
    }
   },
   "outputs": [
    {
     "data": {
      "text/plain": [
       "<New_York_Bill(bill_num='A10753', bill_name='Relates to the appointment of interpreters to be used in parole board proceedings', bill_text='\n",
       "                           S T A T E   O F   N E W   Y O R K\n",
       "       ________________________________________________________________________\n",
       "\n",
       "                                         10753\n",
       "\n",
       "                                 I N  A S S E M B L Y\n",
       "\n",
       "                                   December 23, 2016\n",
       "                                      ___________\n",
       "\n",
       "       Introduced  by  COMMITTEE ON RULES -- (at request of M. of A. Sepulveda)\n",
       "         -- read once and referred to the Committee on Codes\n",
       "\n",
       "       AN ACT to amend the executive law, in relation  to  the  appointment  of\n",
       "         interpreters to be used in parole board proceedings\n",
       "\n",
       "         THE  PEOPLE OF THE STATE OF NEW YORK, REPRESENTED IN SENATE AND ASSEM-\n",
       "       BLY, DO ENACT AS FOLLOWS:\n",
       "\n",
       "    1    Section 1. Subdivision 8 of section 259-i of  the  executive  law,  as\n",
       "    2  added  by  a  chapter  of  the  laws of 2016, amending the executive law\n",
       "    3  relating to translation services for inmates appearing before the parole\n",
       "    4  board, as proposed in legislative bills numbers S. 992 and A.  5548,  is\n",
       "    5  amended to read as follows:\n",
       "    6    8. Foreign born or non-English speaking person before the board.  Upon\n",
       "    7  notification  from the department pursuant to section two hundred fifty-\n",
       "    8  nine-e of this article, or upon the request of any foreign born or  non-\n",
       "    9  English speaking person who is scheduled to participate in an interview,\n",
       "   10  parole release hearing, preliminary hearing or revocation hearing, there\n",
       "   11  shall  be  appointed  FROM THE NEW YORK STATE OFFICE OF GENERAL SERVICES\n",
       "   12  STATEWIDE ADMINISTRATIVE SERVICES CONTRACT, a qualified interpreter [who\n",
       "   13  is certified by a recognized national or New  York  state  credentialing\n",
       "   14  authority]  to interpret the proceedings to and the statements or testi-\n",
       "   15  mony of such person. The board shall determine a reasonable fee for  all\n",
       "   16  such interpreting services, the cost of which shall be a charge upon the\n",
       "   17  board  of  parole. No such request or appointment shall cause a delay of\n",
       "   18  release from incarceration of such person.\n",
       "   19    S 2. This act shall take effect on the  same  date  and  in  the  same\n",
       "   20  manner  as  a  chapter  of  the laws of 2016, amending the executive law\n",
       "   21  relating to translation services for inmates appearing before the parole\n",
       "   22  board, as proposed in legislative bills numbers  S.  992  and  A.  5548,\n",
       "   23  takes effect.\n",
       "\n",
       "\n",
       "        EXPLANATION--Matter in ITALICS (underscored) is new; matter in brackets\n",
       "                             [ ] is old law to be omitted.\n",
       "                                                                  LBD05904-02-6\n",
       "')>"
      ]
     },
     "execution_count": 17,
     "metadata": {},
     "output_type": "execute_result"
    }
   ],
   "source": [
    "all_bills[-1]"
   ]
  },
  {
   "cell_type": "code",
   "execution_count": 18,
   "metadata": {},
   "outputs": [],
   "source": [
    "session.close()"
   ]
  },
  {
   "cell_type": "code",
   "execution_count": null,
   "metadata": {},
   "outputs": [],
   "source": []
  }
 ],
 "metadata": {
  "anaconda-cloud": {},
  "kernelspec": {
   "display_name": "Python 3 (ipykernel)",
   "language": "python",
   "name": "python3"
  },
  "language_info": {
   "codemirror_mode": {
    "name": "ipython",
    "version": 3
   },
   "file_extension": ".py",
   "mimetype": "text/x-python",
   "name": "python",
   "nbconvert_exporter": "python",
   "pygments_lexer": "ipython3",
   "version": "3.11.8"
  }
 },
 "nbformat": 4,
 "nbformat_minor": 4
}
