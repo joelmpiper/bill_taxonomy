{
 "cells": [
  {
   "cell_type": "code",
   "execution_count": 1,
   "metadata": {
    "collapsed": false
   },
   "outputs": [],
   "source": [
    "from sqlalchemy.ext.declarative import declarative_base\n",
    "Base = declarative_base()\n",
    "from sqlalchemy import Column, Integer, String\n",
    "class US_Bill(Base):\n",
    "    __tablename__ = 'us_bills'\n",
    "    bill_num = Column(String, primary_key=True)\n",
    "    bill_name = Column(String)\n",
    "    bill_text = Column(String)\n",
    "    top_subject = Column(String)\n",
    "\n",
    "    def __repr__(self):\n",
    "        return \"<US_Bill(bill_num='%s', bill_name='%s', bill_text='%s,', top_subject='%s,')>\" % (\n",
    "            self.bill_num, self.bill_name, self.bill_text, self.top_subject)"
   ]
  },
  {
   "cell_type": "code",
   "execution_count": 2,
   "metadata": {
    "collapsed": true
   },
   "outputs": [],
   "source": [
    "class Bill_Subject(Base):\n",
    "    __tablename__ = 'bill_subject'\n",
    "    bill_num = Column(String, primary_key=True)\n",
    "    subject = Column(String, primary_key=True)\n",
    "\n",
    "    def __repr__(self):\n",
    "        return \"<Bill_Subject(bill_num='%s', subject='%s')>\" % (\n",
    "            self.bill_num, self.subject)"
   ]
  },
  {
   "cell_type": "code",
   "execution_count": null,
   "metadata": {
    "collapsed": true
   },
   "outputs": [],
   "source": [
    "# Loop through the directory; find data from each json; look in the text directories; open each subdirectory;\n",
    "# read in each subdirectory json file; find the one with the latest date. Read and store text file associated\n",
    "# with that directory"
   ]
  },
  {
   "cell_type": "code",
   "execution_count": 22,
   "metadata": {
    "collapsed": true
   },
   "outputs": [],
   "source": [
    "import json\n",
    "import os\n",
    "import datetime\n",
    "def get_latest_text_dir(path):\n",
    "    latest_date = datetime.datetime(1900, 1, 1)\n",
    "    dir_name = \"\"\n",
    "    for status_dir in os.listdir(path):  \n",
    "        status_file = path + '/' + status_dir + '/data.json'\n",
    "        with open(status_file) as data_file:\n",
    "            status_data = json.load(data_file)\n",
    "            date = datetime.datetime.strptime(status_data['issued_on'], '%Y-%m-%d')\n",
    "            if (date > latest_date):\n",
    "                latest_date = date\n",
    "                dir_name = status_dir\n",
    "    # print(latest_date)\n",
    "    return dir_name"
   ]
  },
  {
   "cell_type": "code",
   "execution_count": 21,
   "metadata": {
    "collapsed": false
   },
   "outputs": [
    {
     "name": "stdout",
     "output_type": "stream",
     "text": [
      "2015-09-16 00:00:00\n",
      "is\n"
     ]
    }
   ],
   "source": [
    "# print(get_latest_text_dir('/Users/Joel/Desktop/Insight/data/bills/s/s2039/text-versions'))"
   ]
  },
  {
   "cell_type": "code",
   "execution_count": 26,
   "metadata": {
    "collapsed": false
   },
   "outputs": [
    {
     "name": "stdout",
     "output_type": "stream",
     "text": [
      "['\\n', '[Congressional Bills 114th Congress]\\n', '[From the U.S. Government Printing Office]\\n', '[H. Con. Res. 1 Received in Senate (RDS)]\\n', '\\n', '114th CONGRESS\\n', '  1st Session\\n', 'H. CON. RES. 1\\n', '\\n', '\\n', '_______________________________________________________________________\\n', '\\n', '\\n', '                   IN THE SENATE OF THE UNITED STATES\\n', '\\n', '                            January 7, 2015\\n', '\\n', '                                Received\\n', '\\n', '_______________________________________________________________________\\n', '\\n', '                         CONCURRENT RESOLUTION\\n', '\\n', '\\n', ' \\n', '     Regarding consent to assemble outside the seat of government.\\n', '\\n', '    Resolved by the House of Representatives (the Senate concurring), \\n', 'That pursuant to clause 4, section 5, article I of the Constitution, \\n', 'during the One Hundred Fourteenth Congress the Speaker of the House and \\n', 'the Majority Leader of the Senate or their respective designees, acting \\n', 'jointly after consultation with the Minority Leader of the House and \\n', 'the Minority Leader of the Senate,\\n', '\\n', '\\n', '              \\n', '\\n', 'may notify the Members of the House and the Senate, respectively, to \\n', 'assemble at a place outside the District of Columbia if, in their \\n', 'opinion, the public interest shall warrant it.\\n', '\\n', '            Passed the House of Representatives January 6, 2015.\\n', '\\n', '            Attest:\\n', '\\n', '                                                 KAREN L. HAAS,\\n', '\\n', '                                                                 Clerk.\\n']\n"
     ]
    }
   ],
   "source": [
    "import os\n",
    "from pprint import pprint\n",
    "bills_dir = '/Users/Joel/Desktop/Insight/data/bills'\n",
    "j = 1\n",
    "for bill_type_dir in os.listdir(bills_dir):\n",
    "    type_dir = bills_dir + '/' + bill_type_dir\n",
    "    for bill_dir in os.listdir(type_dir):\n",
    "        bill_path = type_dir + '/' + bill_dir\n",
    "\n",
    "            #pprint(data)\n",
    "        text_dir_base = bill_path + '/text-versions'\n",
    "        if (os.path.isdir(text_dir_base)):\n",
    "            dir_name = get_latest_text_dir(text_dir_base)\n",
    "            text_name = text_dir_base + '/' + dir_name + '/document.txt'\n",
    "\n",
    "            with open(text_name) as text_file:\n",
    "                text = text_file.readlines()\n",
    "                if (j == 1):\n",
    "                    print text\n",
    "                    j = j + 1\n",
    "            \n",
    "            outer_json = bill_path + '/' + 'data.json'\n",
    "            with open(outer_json) as data_file:    \n",
    "                bill_data = json.load(data_file)"
   ]
  }
 ],
 "metadata": {
  "anaconda-cloud": {},
  "kernelspec": {
   "display_name": "Python [insight]",
   "language": "python",
   "name": "Python [insight]"
  },
  "language_info": {
   "codemirror_mode": {
    "name": "ipython",
    "version": 2
   },
   "file_extension": ".py",
   "mimetype": "text/x-python",
   "name": "python",
   "nbconvert_exporter": "python",
   "pygments_lexer": "ipython2",
   "version": "2.7.12"
  }
 },
 "nbformat": 4,
 "nbformat_minor": 0
}
