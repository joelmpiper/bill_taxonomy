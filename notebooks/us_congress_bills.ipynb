{
 "cells": [
  {
   "cell_type": "code",
   "execution_count": 1,
   "metadata": {
    "collapsed": false
   },
   "outputs": [],
   "source": [
    "from sqlalchemy.ext.declarative import declarative_base\n",
    "Base = declarative_base()\n",
    "from sqlalchemy import Column, Integer, String\n",
    "class US_Bill(Base):\n",
    "    __tablename__ = 'us_bills'\n",
    "    bill_num = Column(String, primary_key=True)\n",
    "    bill_name = Column(String)\n",
    "    bill_text = Column(String)\n",
    "    top_subject = Column(String)\n",
    "\n",
    "    def __repr__(self):\n",
    "        return \"<US_Bill(bill_num='%s', bill_name='%s', bill_text='%s,', top_subject='%s,')>\" % (\n",
    "            self.bill_num, self.bill_name, self.bill_text, self.top_subject)"
   ]
  },
  {
   "cell_type": "code",
   "execution_count": 2,
   "metadata": {
    "collapsed": true
   },
   "outputs": [],
   "source": [
    "class Bill_Subject(Base):\n",
    "    __tablename__ = 'bill_subject'\n",
    "    bill_num = Column(String, primary_key=True)\n",
    "    subject = Column(String, primary_key=True)\n",
    "\n",
    "    def __repr__(self):\n",
    "        return \"<Bill_Subject(bill_num='%s', subject='%s')>\" % (\n",
    "            self.bill_num, self.subject)"
   ]
  },
  {
   "cell_type": "code",
   "execution_count": null,
   "metadata": {
    "collapsed": true
   },
   "outputs": [],
   "source": [
    "# Loop through the directory; find data from each json; look in the text directories; open each subdirectory;\n",
    "# read in each subdirectory json file; find the one with the latest date. Read and store text file associated\n",
    "# with that directory"
   ]
  },
  {
   "cell_type": "code",
   "execution_count": null,
   "metadata": {
    "collapsed": true
   },
   "outputs": [],
   "source": [
    "def get_latest_text_dir(path):\n",
    "    for status_dir in os.listdir(path):\n",
    "        status_data = \n",
    "    return dir_name"
   ]
  },
  {
   "cell_type": "code",
   "execution_count": null,
   "metadata": {
    "collapsed": false
   },
   "outputs": [],
   "source": [
    "import json\n",
    "import os\n",
    "from pprint import pprint\n",
    "bills_dir = '/Users/Joel/Desktop/Insight/data/bills'\n",
    "for bill_type_dir in os.listdir(bills_dir):\n",
    "    type_dir = bills_dir + '/' + bill_type_dir\n",
    "    for bill_dir in os.listdir(type_dir):\n",
    "        bill_path = type_dir + '/' bill_dir\n",
    "        outer_json = bill_path + '/' + 'data.json'\n",
    "        with open(outer_json) as data_file:    \n",
    "            bill_data = json.load(data_file)\n",
    "            #pprint(data)\n",
    "        text_dir_base = bill_path + '/text-versions'\n",
    "        dir_name = get_latest_text_dir(bill_path)\n",
    "            "
   ]
  }
 ],
 "metadata": {
  "anaconda-cloud": {},
  "kernelspec": {
   "display_name": "Python [insight]",
   "language": "python",
   "name": "Python [insight]"
  },
  "language_info": {
   "codemirror_mode": {
    "name": "ipython",
    "version": 2
   },
   "file_extension": ".py",
   "mimetype": "text/x-python",
   "name": "python",
   "nbconvert_exporter": "python",
   "pygments_lexer": "ipython2",
   "version": "2.7.12"
  }
 },
 "nbformat": 4,
 "nbformat_minor": 0
}
