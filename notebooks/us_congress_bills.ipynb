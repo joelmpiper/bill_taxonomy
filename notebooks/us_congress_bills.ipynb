{
 "cells": [
  {
   "cell_type": "code",
   "execution_count": 58,
   "metadata": {
    "collapsed": true
   },
   "outputs": [],
   "source": [
    "# Loop through the directory; find data from each json; look in the text directories; open each subdirectory;\n",
    "# read in each subdirectory json file; find the one with the latest date. Read and store text file associated\n",
    "# with that directory"
   ]
  },
  {
   "cell_type": "code",
   "execution_count": 59,
   "metadata": {
    "collapsed": true
   },
   "outputs": [],
   "source": [
    "# Set up the database to save the results of the new york bill table\n",
    "# There will be one table for the New York bills and one for U.S. bills\n",
    "## Python packages - you may have to pip install sqlalchemy, sqlalchemy_utils, and psycopg2.\n",
    "from sqlalchemy import create_engine\n",
    "from sqlalchemy_utils import database_exists, create_database\n",
    "import psycopg2\n",
    "import pandas as pd"
   ]
  },
  {
   "cell_type": "code",
   "execution_count": 60,
   "metadata": {
    "collapsed": false
   },
   "outputs": [
    {
     "name": "stdout",
     "output_type": "stream",
     "text": [
      "postgres://Joel@localhost/bills_db\n",
      "True\n"
     ]
    }
   ],
   "source": [
    "#In Python: Define a database name\n",
    "dbname = 'bills_db'\n",
    "username = 'Joel'\n",
    "## 'engine' is a connection to a database\n",
    "## Here, we're using postgres, but sqlalchemy can connect to other things too.\n",
    "engine = create_engine('postgres://%s@localhost/%s'%(username,dbname))\n",
    "print engine.url\n",
    "\n",
    "## create a database (if it doesn't exist)\n",
    "if not database_exists(engine.url):\n",
    "    create_database(engine.url)\n",
    "print(database_exists(engine.url))"
   ]
  },
  {
   "cell_type": "code",
   "execution_count": 61,
   "metadata": {
    "collapsed": true
   },
   "outputs": [],
   "source": [
    "# Actually create the table\n",
    "Base.metadata.create_all(engine)"
   ]
  },
  {
   "cell_type": "code",
   "execution_count": 62,
   "metadata": {
    "collapsed": false
   },
   "outputs": [],
   "source": [
    "from sqlalchemy.ext.declarative import declarative_base\n",
    "Base = declarative_base()\n",
    "from sqlalchemy import Column, Integer, String\n",
    "class US_Bill(Base):\n",
    "    __tablename__ = 'us_bills'\n",
    "    bill_num = Column(String, primary_key=True)\n",
    "    bill_name = Column(String)\n",
    "    bill_text = Column(String)\n",
    "    top_subject = Column(String)\n",
    "\n",
    "    def __repr__(self):\n",
    "        return \"<US_Bill(bill_num='%s', bill_name='%s', bill_text='%s,', top_subject='%s,')>\" % (\n",
    "            self.bill_num, self.bill_name, self.bill_text, self.top_subject)"
   ]
  },
  {
   "cell_type": "code",
   "execution_count": 63,
   "metadata": {
    "collapsed": true
   },
   "outputs": [],
   "source": [
    "class Bill_Subject(Base):\n",
    "    __tablename__ = 'bill_subject'\n",
    "    bill_num = Column(String, primary_key=True)\n",
    "    subject = Column(String, primary_key=True)\n",
    "\n",
    "    def __repr__(self):\n",
    "        return \"<Bill_Subject(bill_num='%s', subject='%s')>\" % (\n",
    "            self.bill_num, self.subject)"
   ]
  },
  {
   "cell_type": "code",
   "execution_count": 64,
   "metadata": {
    "collapsed": true
   },
   "outputs": [],
   "source": [
    "session.close()\n",
    "from sqlalchemy.orm import sessionmaker\n",
    "Session = sessionmaker(bind=engine)\n",
    "session = Session()"
   ]
  },
  {
   "cell_type": "code",
   "execution_count": null,
   "metadata": {
    "collapsed": true
   },
   "outputs": [],
   "source": []
  },
  {
   "cell_type": "code",
   "execution_count": 65,
   "metadata": {
    "collapsed": true
   },
   "outputs": [],
   "source": [
    "import json\n",
    "import os\n",
    "import datetime\n",
    "def get_latest_text_dir(path):\n",
    "    latest_date = datetime.datetime(1900, 1, 1)\n",
    "    dir_name = \"\"\n",
    "    for status_dir in os.listdir(path):  \n",
    "        status_file = path + '/' + status_dir + '/data.json'\n",
    "        with open(status_file) as data_file:\n",
    "            status_data = json.load(data_file)\n",
    "            date = datetime.datetime.strptime(status_data['issued_on'], '%Y-%m-%d')\n",
    "            if (date > latest_date):\n",
    "                latest_date = date\n",
    "                dir_name = status_dir\n",
    "    # print(latest_date)\n",
    "    return dir_name"
   ]
  },
  {
   "cell_type": "code",
   "execution_count": 66,
   "metadata": {
    "collapsed": false
   },
   "outputs": [],
   "source": [
    "# print(get_latest_text_dir('/Users/Joel/Desktop/Insight/data/bills/s/s2039/text-versions'))"
   ]
  },
  {
   "cell_type": "code",
   "execution_count": 67,
   "metadata": {
    "collapsed": false
   },
   "outputs": [
    {
     "data": {
      "text/plain": [
       "Table('bill_subject', MetaData(bind=None), Column('bill_num', String(), table=<bill_subject>, primary_key=True, nullable=False), Column('subject', String(), table=<bill_subject>, primary_key=True, nullable=False), schema=None)"
      ]
     },
     "execution_count": 67,
     "metadata": {},
     "output_type": "execute_result"
    }
   ],
   "source": [
    "Bill_Subject.__table__"
   ]
  },
  {
   "cell_type": "code",
   "execution_count": 68,
   "metadata": {
    "collapsed": false
   },
   "outputs": [],
   "source": [
    "import os\n",
    "from pprint import pprint\n",
    "bills_dir = '/Users/Joel/Desktop/Insight/data/bills'\n",
    "\n",
    "for bill_type_dir in os.listdir(bills_dir):\n",
    "    type_dir = bills_dir + '/' + bill_type_dir\n",
    "    for bill_dir in os.listdir(type_dir):\n",
    "        bill_path = type_dir + '/' + bill_dir\n",
    "\n",
    "            #pprint(data)\n",
    "        text_dir_base = bill_path + '/text-versions'\n",
    "        if (os.path.isdir(text_dir_base)):\n",
    "            dir_name = get_latest_text_dir(text_dir_base)\n",
    "            text_name = text_dir_base + '/' + dir_name + '/document.txt'\n",
    "            \n",
    "            text = \"\"\n",
    "            with open(text_name) as text_file:\n",
    "                text = text_file.readlines()\n",
    "                    \n",
    "            outer_json = bill_path + '/' + 'data.json'\n",
    "            with open(outer_json) as data_file:    \n",
    "                bill_data = json.load(data_file)\n",
    "                bill_num = bill_data['bill_id']\n",
    "                bill_name = bill_data['official_title']\n",
    "                top_subject = bill_data['subjects_top_term']\n",
    "                one_bill = US_Bill(bill_num=bill_num, bill_name=bill_name, bill_text=text, top_subject=top_subject)\n",
    "                session.add(one_bill)\n",
    "\n",
    "                for term in bill_data['subjects']:\n",
    "                    one_sub = Bill_Subject(bill_num=bill_num, subject=term)\n",
    "                    session.add(one_sub)\n",
    "                    \n",
    "\n",
    "session.commit()\n",
    "session.close()"
   ]
  },
  {
   "cell_type": "code",
   "execution_count": null,
   "metadata": {
    "collapsed": true
   },
   "outputs": [],
   "source": []
  }
 ],
 "metadata": {
  "anaconda-cloud": {},
  "kernelspec": {
   "display_name": "Python [insight]",
   "language": "python",
   "name": "Python [insight]"
  },
  "language_info": {
   "codemirror_mode": {
    "name": "ipython",
    "version": 2
   },
   "file_extension": ".py",
   "mimetype": "text/x-python",
   "name": "python",
   "nbconvert_exporter": "python",
   "pygments_lexer": "ipython2",
   "version": "2.7.12"
  }
 },
 "nbformat": 4,
 "nbformat_minor": 0
}
