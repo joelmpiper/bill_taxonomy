{
 "cells": [
  {
   "cell_type": "code",
   "execution_count": 1,
   "metadata": {
    "collapsed": true
   },
   "outputs": [],
   "source": [
    "import os\n",
    "import sys\n",
    "os.chdir('../apps')"
   ]
  },
  {
   "cell_type": "code",
   "execution_count": 2,
   "metadata": {
    "collapsed": false
   },
   "outputs": [],
   "source": [
    "from flask import render_template\n",
    "from flask import request\n",
    "from flaskexample import app\n",
    "from sqlalchemy import create_engine\n",
    "import pandas as pd\n",
    "import psycopg2\n",
    "import yaml\n",
    "from flaskexample.support_functions import formatted_query"
   ]
  },
  {
   "cell_type": "code",
   "execution_count": 3,
   "metadata": {
    "collapsed": true
   },
   "outputs": [],
   "source": [
    "\n",
    "ymlfile = open(\"../configs.yml\", 'r')\n",
    "cfg = yaml.load(ymlfile)\n",
    "ymlfile.close()\n",
    "\n",
    "dbname = cfg['dbname']\n",
    "user = cfg['username']\n",
    "host = 'localhost'\n",
    "db = create_engine('postgres://%s%s/%s' % (user, host, dbname))\n",
    "con = None\n",
    "con = psycopg2.connect(database=dbname, user=user)\n",
    "\n"
   ]
  },
  {
   "cell_type": "code",
   "execution_count": 4,
   "metadata": {
    "collapsed": false
   },
   "outputs": [],
   "source": [
    "subject = \"'Health'\"\n",
    "q_str = \"\"\"\n",
    "SELECT nyb.bill_num, nyb.bill_name, ts.logistic\n",
    "FROM ny_score as ts\n",
    "INNER JOIN ny_bills as nyb\n",
    "ON nyb.bill_num=ts.bill_num\n",
    "WHERE ts.subject={0}\n",
    "AND ts.logistic IS NOT NULL\n",
    "ORDER BY ts.logistic DESC\n",
    "LIMIT 100;\n",
    "\"\"\"\n",
    "q_fill = q_str.format(subject)\n",
    "query_results = pd.read_sql_query(q_fill, con)\n",
    "\n"
   ]
  },
  {
   "cell_type": "code",
   "execution_count": 5,
   "metadata": {
    "collapsed": false
   },
   "outputs": [
    {
     "data": {
      "text/plain": [
       "\"'Health'\""
      ]
     },
     "execution_count": 5,
     "metadata": {},
     "output_type": "execute_result"
    }
   ],
   "source": [
    "subject"
   ]
  },
  {
   "cell_type": "code",
   "execution_count": 43,
   "metadata": {
    "collapsed": true
   },
   "outputs": [],
   "source": [
    "bills = []\n",
    "for i in range(0, query_results.shape[0]):\n",
    "    bills.append(dict(bill_num=query_results.iloc[i]['bill_num'],\n",
    "                      bill_name=query_results.iloc[i]['bill_name'],\n",
    "                      score=query_results.iloc[i]['logistic']))\n"
   ]
  },
  {
   "cell_type": "code",
   "execution_count": 77,
   "metadata": {
    "collapsed": false
   },
   "outputs": [],
   "source": [
    "seen = set()\n",
    "uniq_bills = dict()\n",
    "for bill in bills:\n",
    "    if bill['bill_name'] not in seen:\n",
    "        uniq_bills[bill['bill_name']] = dict(bill_num=[bill['bill_num']], bill_name=bill['bill_name'], \n",
    "                                             score=bill['score'])\n",
    "        seen.add(bill['bill_name'])\n",
    "    else:\n",
    "        b1 = uniq_bills[bill['bill_name']]\n",
    "        b1['score']= (b1['score'] * len(b1['bill_num']) + bill['score'])/(len(b1['bill_num']) + 1)\n",
    "        b1['bill_num'].append(bill['bill_num'])\n",
    "        "
   ]
  },
  {
   "cell_type": "code",
   "execution_count": 78,
   "metadata": {
    "collapsed": false
   },
   "outputs": [],
   "source": [
    "sorted_bills = sorted(uniq_bills.values(), key=lambda a: -a['score'])"
   ]
  },
  {
   "cell_type": "code",
   "execution_count": 79,
   "metadata": {
    "collapsed": false
   },
   "outputs": [],
   "source": [
    "for bill in sorted_bills:\n",
    "    bill['score'] = \"{0:2.2g}\".format(bill['score'])"
   ]
  },
  {
   "cell_type": "code",
   "execution_count": 80,
   "metadata": {
    "collapsed": false
   },
   "outputs": [
    {
     "data": {
      "text/plain": [
       "[{'bill_name': 'Honoring Chandler M. Ralph upon the occasion of her designation as recipient of the Dr. Edward L. Trudeau Award by the Adirondack Health Foundation',\n",
       "  'bill_num': ['J6488', 'K1566'],\n",
       "  'score': ' 1'},\n",
       " {'bill_name': 'Provides for patient access to FDA approved abuse-deterrent technology to help combat opioid abuse',\n",
       "  'bill_num': ['A9487'],\n",
       "  'score': ' 1'},\n",
       " {'bill_name': 'Relates to establishing protections from excessive hospital emergency charges; repealer',\n",
       "  'bill_num': ['A10470'],\n",
       "  'score': ' 1'},\n",
       " {'bill_name': 'Requires health care plans and insurers to provide expedited review of applications of health care professionals who are joining a group practice',\n",
       "  'bill_num': ['S2545D'],\n",
       "  'score': ' 1'},\n",
       " {'bill_name': 'Relates to payments from the New York state medical indemnity fund',\n",
       "  'bill_num': ['A9835B'],\n",
       "  'score': '0.99'},\n",
       " {'bill_name': 'Makes the restrictions relating to smoking in public areas applicable to electronic cigarettes',\n",
       "  'bill_num': ['A5955B'],\n",
       "  'score': '0.9'},\n",
       " {'bill_name': 'Provides for the financing of emergency room facilities in two hospitals in each borough by the New York city health and hospitals corporation',\n",
       "  'bill_num': ['S3322'],\n",
       "  'score': '0.75'},\n",
       " {'bill_name': 'Directs the New York state department of health to conduct a study on the incidences of asthma in cities having a population of one hundred thousand or more and to prepare a report',\n",
       "  'bill_num': ['S3272A'],\n",
       "  'score': '0.64'},\n",
       " {'bill_name': 'Requires the New York City Housing Authority to provide a written statement articulating the reasons for denial of any request',\n",
       "  'bill_num': ['A4102'],\n",
       "  'score': '0.39'},\n",
       " {'bill_name': 'Directs the commissioners of health and environmental conservation to study and develop a long term strategy to encourage outdoor environmental education and recreation',\n",
       "  'bill_num': ['S7806'],\n",
       "  'score': '0.35'},\n",
       " {'bill_name': 'Provides that the abbreviation of \"D.P.T.\" and title \"doctor of physical therapy\" may only be used by a person licensed or otherwise authorized by article 136 of the education law to practice physical therapy',\n",
       "  'bill_num': ['S4969B'],\n",
       "  'score': '0.31'},\n",
       " {'bill_name': 'Commending Dr. Barry Tharp upon the occasion of his designation as a 2016 Inductee into the Auburn Alumni Hall of Distinction, on May 6, 2016',\n",
       "  'bill_num': ['K1149'],\n",
       "  'score': '0.28'},\n",
       " {'bill_name': 'Relates to refunding contributions for New York city transit authority members in the title transit manager',\n",
       "  'bill_num': ['S5359A'],\n",
       "  'score': '0.26'},\n",
       " {'bill_name': 'Relates to comprehensive emergency management provisions for homecare and hospice in counties and in cities with a population of one million or more',\n",
       "  'bill_num': ['A9381B'],\n",
       "  'score': '0.11'},\n",
       " {'bill_name': 'Makes provisions for payment to certain parole officers employed by department of corrections and community supervision for salary and medical expenses while subject to sickness',\n",
       "  'bill_num': ['A7784'],\n",
       "  'score': '0.093'},\n",
       " {'bill_name': 'Commending Joseph K. Collins upon the occasion of his designation for special recognition by St. Francis College',\n",
       "  'bill_num': ['J4110'],\n",
       "  'score': '0.081'},\n",
       " {'bill_name': 'Relates to requirements under Medicare part D employer group waiver plans',\n",
       "  'bill_num': ['S7867A'],\n",
       "  'score': '0.081'},\n",
       " {'bill_name': 'Relates to HIV-related testing and to screening for certain diseases',\n",
       "  'bill_num': ['A10724'],\n",
       "  'score': '0.074'},\n",
       " {'bill_name': 'Authorizes the port authority of New York and New Jersey to offer a certain retirement option to port authority police officers Timothy GaNun and Jason DeVirgilio',\n",
       "  'bill_num': ['A10610'],\n",
       "  'score': '0.072'},\n",
       " {'bill_name': 'Establishes a tax credit for farmers who make food donations to food banks or other public, charitable or not-for-profit emergency food programs',\n",
       "  'bill_num': ['A1812B'],\n",
       "  'score': '0.038'},\n",
       " {'bill_name': 'Commending Domenick A. Cama upon the occasion of his designation for special recognition by St. Francis College',\n",
       "  'bill_num': ['J4108'],\n",
       "  'score': '0.025'},\n",
       " {'bill_name': 'Commending Firefighter Carl M. Wappman, Jr. upon the occasion of his designation for special recognition after 60 years of dedicated service to the Lake Shore Volunteer Fire Company, Inc.',\n",
       "  'bill_num': ['J6496'],\n",
       "  'score': '0.023'},\n",
       " {'bill_name': 'Relates to the creation of an advisory board within the department of agriculture and markets on food safety and inspection programs',\n",
       "  'bill_num': ['A3315'],\n",
       "  'score': '0.013'},\n",
       " {'bill_name': 'Honoring Charles R. Elmore upon the occasion of his designation as recipient of the Donald Schields Award by the Town of Deerpark Police Benevolent Association on March 19, 2016',\n",
       "  'bill_num': ['J4929'],\n",
       "  'score': '0.013'},\n",
       " {'bill_name': 'Relates to the congregate services initiative for the elderly',\n",
       "  'bill_num': ['S8098'],\n",
       "  'score': '0.012'},\n",
       " {'bill_name': 'Authorizes holding title of real property of a land bank in the name of a subsidiary',\n",
       "  'bill_num': ['S7589B', 'A7529B'],\n",
       "  'score': '0.011'},\n",
       " {'bill_name': 'Honoring Harrison and Marissa Burack upon the occasion of their designation as recipients of the Herbert A. Applebaum and Lenore Bellin Memorial Awards by the Sidney Albert Albany Jewish Community Center',\n",
       "  'bill_num': ['J4633'],\n",
       "  'score': '0.0067'},\n",
       " {'bill_name': 'Honoring A. Yvette Rose upon the occasion of her designation as recipient of the Pillar of Grace Award by Momentum Education on June 28, 2016',\n",
       "  'bill_num': ['J6491'],\n",
       "  'score': '0.0065'},\n",
       " {'bill_name': 'Commending Tom Lewis upon the occasion of his designation as a 2016 Inductee into the Auburn Alumni Hall of Distinction, on May 6, 2016',\n",
       "  'bill_num': ['K1151'],\n",
       "  'score': '0.006'},\n",
       " {'bill_name': 'Relates to establishing a credit for donation to a food bank or other emergency food program by New York state farmers',\n",
       "  'bill_num': ['A10584'],\n",
       "  'score': '0.0059'},\n",
       " {'bill_name': 'Honoring Leonard and Shirley DeFrancesco upon the occasion of their designation as recipients of the Sharing the Light Award',\n",
       "  'bill_num': ['J6465'],\n",
       "  'score': '0.0056'},\n",
       " {'bill_name': 'Relates to out of state hospital records produced pursuant to subpoena',\n",
       "  'bill_num': ['S1597A'],\n",
       "  'score': '0.0055'},\n",
       " {'bill_name': 'Establishes the New York end of life options act',\n",
       "  'bill_num': ['S3685'],\n",
       "  'score': '0.0054'},\n",
       " {'bill_name': 'Honoring Barbara Fatticone on her designation as recipient of the 2016 Community Service Award by Residents for a More Beautiful Port Washington',\n",
       "  'bill_num': ['J4675'],\n",
       "  'score': '0.0054'},\n",
       " {'bill_name': 'Commending Corky Lee upon the occasion of his designation for special recognition by Homecrest Community Services on February 26, 2016',\n",
       "  'bill_num': ['J3819'],\n",
       "  'score': '0.0052'},\n",
       " {'bill_name': 'Relates to the reorganization of the alcoholic beverage control law; repealer',\n",
       "  'bill_num': ['A10728'],\n",
       "  'score': '0.0042'},\n",
       " {'bill_name': 'Honoring Norma Holmberg upon the occasion of her designation as recipient of the Volunteer of the Year Award by In Our Own Voices, Inc. on July 17, 2016',\n",
       "  'bill_num': ['J6477'],\n",
       "  'score': '0.0034'},\n",
       " {'bill_name': 'Grants authority to the village of Sag Harbor, county of Suffolk to regulate certain described waters bounding said village pursuant to the navigation law',\n",
       "  'bill_num': ['A7002D'],\n",
       "  'score': '0.0028'},\n",
       " {'bill_name': 'Repeals the definition of \"transportation purpose\" for the purposes of the metropolitan transportation authority',\n",
       "  'bill_num': ['A10421', 'S8037'],\n",
       "  'score': '0.0023'},\n",
       " {'bill_name': \"Directs the office of children and family services and the NY city administration for children's services to submit annual reports concerning information related to children served by their respective prog\",\n",
       "  'bill_num': ['A9973'],\n",
       "  'score': '0.002'},\n",
       " {'bill_name': 'Memorializing Governor Andrew M. Cuomo to proclaim September 2016 as Alopecia Awareness Month in the State of New York',\n",
       "  'bill_num': ['K1583'],\n",
       "  'score': '0.0019'},\n",
       " {'bill_name': 'Establishes emergency evacuation plan for individuals with disabilities; and establishes $500 fine for failure to comply',\n",
       "  'bill_num': ['A2200'],\n",
       "  'score': '0.0019'},\n",
       " {'bill_name': 'Honoring Lauren Payne and Robert Clancy upon the occasion of their designation for special recognition by the Troy Savings Bank Music Hall on April 7, 2016',\n",
       "  'bill_num': ['J4626'],\n",
       "  'score': '0.0015'},\n",
       " {'bill_name': 'Relates to home improvement contract provisions',\n",
       "  'bill_num': ['A7339A'],\n",
       "  'score': '0.0013'},\n",
       " {'bill_name': 'Honoring Antoinette Vessey upon the occasion of her designation for special recognition by the New York State Office for the Aging on May 10, 2016',\n",
       "  'bill_num': ['J4924'],\n",
       "  'score': '0.0011'},\n",
       " {'bill_name': 'Relates to electronic prescriptions',\n",
       "  'bill_num': ['A9335B'],\n",
       "  'score': '0.001'},\n",
       " {'bill_name': 'Congratulating Andrew Henry upon the occasion of receiving the distinguished rank of Eagle Scout, the most prestigious of Scouting honors',\n",
       "  'bill_num': ['J6495'],\n",
       "  'score': '0.001'},\n",
       " {'bill_name': \"Relates to authorizing the care and treatment of injured employees by duly licensed or certified acupuncturists under the workers' compensation program\",\n",
       "  'bill_num': ['A2462A'],\n",
       "  'score': '0.001'},\n",
       " {'bill_name': 'Directs the public service commission to issue an order governing the equitable sharing of interconnection costs for distributed generation resources',\n",
       "  'bill_num': ['A10426'],\n",
       "  'score': '0.00099'},\n",
       " {'bill_name': 'Relates to permits for brewers, manufacturers, and importers to serve small samples of their beer or malt beverages',\n",
       "  'bill_num': ['S1860'],\n",
       "  'score': '0.00095'},\n",
       " {'bill_name': 'Honoring Father Mark Connell upon the occasion of his designation as recipient of the Human Rights Award by the Orange County Human Rights Commission',\n",
       "  'bill_num': ['J4769'],\n",
       "  'score': '0.00084'},\n",
       " {'bill_name': 'Relates to creating a comprehensive website of small business and minority and women-owned business enterprise assistance',\n",
       "  'bill_num': ['S6959A'],\n",
       "  'score': '0.00077'},\n",
       " {'bill_name': 'Relates to the revocation or reissuance of licenses; repealer',\n",
       "  'bill_num': ['S1738'],\n",
       "  'score': '0.00075'},\n",
       " {'bill_name': 'Directs the department of financial services to study and report upon the provision of long term care insurance coverage in this state',\n",
       "  'bill_num': ['A10711', 'S6802'],\n",
       "  'score': '0.0007'},\n",
       " {'bill_name': 'Memorializing Governor Andrew M. Cuomo to proclaim May 23, 2016, as New York State Suicide Prevention Advocacy Day',\n",
       "  'bill_num': ['J4115'],\n",
       "  'score': '0.00063'},\n",
       " {'bill_name': 'Congratulating Jessica Lawson upon the occasion of capturing the NYSPHSAA Girls Track and Field Championship',\n",
       "  'bill_num': ['K1591'],\n",
       "  'score': '0.00057'},\n",
       " {'bill_name': 'Requires school districts and boards of cooperative educational services to conduct periodic testing of school potable water sources and systems to monitor for lead contamination in certain school buildings',\n",
       "  'bill_num': ['S7103C'],\n",
       "  'score': '0.00053'},\n",
       " {'bill_name': 'Relates to owner liability for failure to comply with traffic control indications',\n",
       "  'bill_num': ['A7901A'],\n",
       "  'score': '0.00051'},\n",
       " {'bill_name': 'Relates to establishing a pilot program for the use of body-worn cameras on certain correction officers',\n",
       "  'bill_num': ['A9279'],\n",
       "  'score': '0.00044'},\n",
       " {'bill_name': 'Relates to the transfer and conveyance of certain unappropriated state land to the county of Greene, in relation to using the land for a 911 emergency call center',\n",
       "  'bill_num': ['S7603'],\n",
       "  'score': '0.00043'},\n",
       " {'bill_name': 'Honoring Margaret Crocker upon the occasion of her retirement after 26 years of distinguished service to The Discovery Center of the Southern Tier',\n",
       "  'bill_num': ['K1334'],\n",
       "  'score': '0.00037'},\n",
       " {'bill_name': 'Provides that where a temporary order of spousal support has not been issued the court may, in addition to issuing a temporary order of protection, issue an order for temporary spousal support',\n",
       "  'bill_num': ['A7032A'],\n",
       "  'score': '0.00035'},\n",
       " {'bill_name': 'Increases the fees imposed by the Lake George park commission for docks, wharfs, moorings and boats',\n",
       "  'bill_num': ['A9494'],\n",
       "  'score': '0.00035'},\n",
       " {'bill_name': 'Honoring Dr. Henry J. Heimlich upon the occasion of developing the life-saving Heimlich maneuver',\n",
       "  'bill_num': ['K1590'],\n",
       "  'score': '0.00033'},\n",
       " {'bill_name': 'Congratulating the Shenendehowa Boys Varsity Baseball Team upon the occasion of capturing the NYSPHSAA Class AA Championship',\n",
       "  'bill_num': ['J6428'],\n",
       "  'score': '0.00032'},\n",
       " {'bill_name': 'Designates as peace officers, members of the security force of Alfred University',\n",
       "  'bill_num': ['S3671A'],\n",
       "  'score': '0.0003'},\n",
       " {'bill_name': 'Congratulating Jason Hranitz upon the occasion of receiving the distinguished rank of Eagle Scout',\n",
       "  'bill_num': ['K1595'],\n",
       "  'score': '0.0003'},\n",
       " {'bill_name': 'Congratulating Jack Furmanek upon the occasion of receiving the distinguished rank of Eagle Scout, the most prestigious of Scouting honors, on July 9, 2016',\n",
       "  'bill_num': ['K1596'],\n",
       "  'score': '0.0003'},\n",
       " {'bill_name': 'Congratulating Benjamin Petrella upon the occasion of winning the 3,200 Meter Run in the NYSPHSAA Boys Outdoor Track And Field Championship',\n",
       "  'bill_num': ['J6483'],\n",
       "  'score': '0.00029'},\n",
       " {'bill_name': \"Establishes an energy system tax stabilization reserve fund in the Lowville Central School District to lessen or prevent increases in the school district's real property tax levy\",\n",
       "  'bill_num': ['S7325B'],\n",
       "  'score': '0.00027'},\n",
       " {'bill_name': 'Honoring Phil Schaap upon the occasion of his retirement after many years of distinguished service at Jazz at Lincoln Center',\n",
       "  'bill_num': ['J4726'],\n",
       "  'score': '0.00025'},\n",
       " {'bill_name': 'Honoring Thomas E. Workman upon the occasion of his retirement after many years of distinguished service to the Life Insurance Council of New York, Inc.',\n",
       "  'bill_num': ['K1156'],\n",
       "  'score': '0.00025'},\n",
       " {'bill_name': 'Relates to the use of local cost data when adjusting claims',\n",
       "  'bill_num': ['A10197A'],\n",
       "  'score': '0.00024'},\n",
       " {'bill_name': 'Implements a cost estimation model for child care',\n",
       "  'bill_num': ['A9900A'],\n",
       "  'score': '0.00024'},\n",
       " {'bill_name': 'Relates to commercial casinos',\n",
       "  'bill_num': ['S8031'],\n",
       "  'score': '0.00022'},\n",
       " {'bill_name': 'Commending Marie Nicole Souffrant of the 21st Senate District after 29 years of dedicated service as an EMT',\n",
       "  'bill_num': ['J6411'],\n",
       "  'score': '0.00022'},\n",
       " {'bill_name': \"Enacts Ruby's Law providing for mandatory testing of breath, blood or urine in the event of a motor vehicle collision resulting in death or injury\",\n",
       "  'bill_num': ['S8051'],\n",
       "  'score': '0.00021'},\n",
       " {'bill_name': 'Relates to requiring child protective services to document home visits with photographs',\n",
       "  'bill_num': ['S3459'],\n",
       "  'score': '0.0002'},\n",
       " {'bill_name': 'Relates to small business online lending awareness and outreach campaign',\n",
       "  'bill_num': ['A10259A', 'S7925A'],\n",
       "  'score': '0.0002'},\n",
       " {'bill_name': 'Authorizes the villages of Sag Harbor and East Hampton, county of Suffolk, to reduce speed limits in certain cases',\n",
       "  'bill_num': ['S2926B'],\n",
       "  'score': '0.00018'},\n",
       " {'bill_name': 'Provides for issuance of distinctive plates for the \"75th Anniversary of Ducks Unlimited\"',\n",
       "  'bill_num': ['S1954A'],\n",
       "  'score': '0.00018'},\n",
       " {'bill_name': 'Congratulating the Christian Brothers Academy Girls Varsity Lacrosse Team upon the occasion of capturing the NYSPHSAA Girls Lacrosse Class A Championship',\n",
       "  'bill_num': ['J6472'],\n",
       "  'score': '0.00017'},\n",
       " {'bill_name': 'Relates to taxation of unincorporated businesses',\n",
       "  'bill_num': ['A10266'],\n",
       "  'score': '0.00017'},\n",
       " {'bill_name': 'Relates to the retirement of deputy sheriffs-civil in the county of Monroe',\n",
       "  'bill_num': ['S7716'],\n",
       "  'score': '0.00017'},\n",
       " {'bill_name': 'Commemorating the 25th Annual William Henry Seward Birthday Celebration in the Village of Florida, New York, on May 14, 2016',\n",
       "  'bill_num': ['J6453'],\n",
       "  'score': '0.00017'},\n",
       " {'bill_name': 'Authorizes cities having a population of between 250,000 and 300,000 to establish a senior citizen longtime resident real property tax exemption',\n",
       "  'bill_num': ['A10570'],\n",
       "  'score': '0.00016'},\n",
       " {'bill_name': 'Relates to establishing the marine mammal and sea turtle protection area',\n",
       "  'bill_num': ['A10474A'],\n",
       "  'score': '0.00016'},\n",
       " {'bill_name': 'Congratulating Demi Nunez upon the occasion of receiving the Girl Scout Silver Award',\n",
       "  'bill_num': ['J6446'],\n",
       "  'score': '0.00016'},\n",
       " {'bill_name': 'Congratulating Gianna Germano upon the occasion of receiving the Girl Scout Silver Award',\n",
       "  'bill_num': ['J6439'],\n",
       "  'score': '0.00016'},\n",
       " {'bill_name': 'Congratulating Pavneet Johal upon the occasion of receiving the Girl Scout Silver Award',\n",
       "  'bill_num': ['J6441'],\n",
       "  'score': '0.00016'},\n",
       " {'bill_name': \"Commemorating the 100th Anniversary of the Reserve Officers' Training Corps (ROTC\",\n",
       "  'bill_num': ['J6484'],\n",
       "  'score': '0.00015'},\n",
       " {'bill_name': 'Relates to a residential reassessment exemption for the town of Ossining in the county of Westchester',\n",
       "  'bill_num': ['S8156'],\n",
       "  'score': '0.00015'},\n",
       " {'bill_name': 'Relates to the village of Plandome Manor entering into contracts to sell delinquent tax liens',\n",
       "  'bill_num': ['A10604'],\n",
       "  'score': '0.00015'},\n",
       " {'bill_name': 'Relates to the jurisdiction of University of Rochester peace officers',\n",
       "  'bill_num': ['A10307'],\n",
       "  'score': '0.00015'},\n",
       " {'bill_name': 'Relates to employment agencies, including application for license; procedures; granting of licenses and enforcement of provisions relating thereto',\n",
       "  'bill_num': ['A10672'],\n",
       "  'score': '0.00014'}]"
      ]
     },
     "execution_count": 80,
     "metadata": {},
     "output_type": "execute_result"
    }
   ],
   "source": [
    "sorted_bills"
   ]
  },
  {
   "cell_type": "code",
   "execution_count": 92,
   "metadata": {
    "collapsed": false
   },
   "outputs": [],
   "source": [
    "def collect_format_sort(results, col):\n",
    "    bills = []\n",
    "    for i in range(0, query_results.shape[0]):\n",
    "        bills.append(dict(bill_num=query_results.iloc[i]['bill_num'],\n",
    "                          bill_name=query_results.iloc[i]['bill_name'],\n",
    "                          score=query_results.iloc[i][col]))\n",
    "    seen = set()\n",
    "    uniq_bills = dict()\n",
    "    for bill in bills:\n",
    "        if bill['bill_name'] not in seen:\n",
    "            uniq_bills[bill['bill_name']] = dict(bill_num=[bill['bill_num']], bill_name=bill['bill_name'], \n",
    "                                                 score=bill['score'])\n",
    "            seen.add(bill['bill_name'])\n",
    "        else:\n",
    "            b1 = uniq_bills[bill['bill_name']]\n",
    "            b1['score']= (b1['score'] * len(b1['bill_num']) + bill['score'])/(len(b1['bill_num']) + 1)\n",
    "            b1['bill_num'].append(bill['bill_num'])\n",
    "            \n",
    "    sorted_bills = sorted(uniq_bills.values(), key=lambda a: -a['score'])\n",
    "    for bill in sorted_bills:\n",
    "        bill['score'] = \"{0:2.2g}\".format(bill['score'])\n",
    "        bill['bill_num'] = \", \".join(bill['bill_num'])\n",
    "    return sorted_bills"
   ]
  },
  {
   "cell_type": "code",
   "execution_count": 93,
   "metadata": {
    "collapsed": false
   },
   "outputs": [],
   "source": [
    "display_bills = collect_format_sort(query_results, 'logistic')"
   ]
  },
  {
   "cell_type": "code",
   "execution_count": 94,
   "metadata": {
    "collapsed": false
   },
   "outputs": [
    {
     "data": {
      "text/plain": [
       "[{'bill_name': 'Honoring Chandler M. Ralph upon the occasion of her designation as recipient of the Dr. Edward L. Trudeau Award by the Adirondack Health Foundation',\n",
       "  'bill_num': 'J6488, K1566',\n",
       "  'score': ' 1'},\n",
       " {'bill_name': 'Provides for patient access to FDA approved abuse-deterrent technology to help combat opioid abuse',\n",
       "  'bill_num': 'A9487',\n",
       "  'score': ' 1'},\n",
       " {'bill_name': 'Relates to establishing protections from excessive hospital emergency charges; repealer',\n",
       "  'bill_num': 'A10470',\n",
       "  'score': ' 1'},\n",
       " {'bill_name': 'Requires health care plans and insurers to provide expedited review of applications of health care professionals who are joining a group practice',\n",
       "  'bill_num': 'S2545D',\n",
       "  'score': ' 1'},\n",
       " {'bill_name': 'Relates to payments from the New York state medical indemnity fund',\n",
       "  'bill_num': 'A9835B',\n",
       "  'score': '0.99'},\n",
       " {'bill_name': 'Makes the restrictions relating to smoking in public areas applicable to electronic cigarettes',\n",
       "  'bill_num': 'A5955B',\n",
       "  'score': '0.9'},\n",
       " {'bill_name': 'Provides for the financing of emergency room facilities in two hospitals in each borough by the New York city health and hospitals corporation',\n",
       "  'bill_num': 'S3322',\n",
       "  'score': '0.75'},\n",
       " {'bill_name': 'Directs the New York state department of health to conduct a study on the incidences of asthma in cities having a population of one hundred thousand or more and to prepare a report',\n",
       "  'bill_num': 'S3272A',\n",
       "  'score': '0.64'},\n",
       " {'bill_name': 'Requires the New York City Housing Authority to provide a written statement articulating the reasons for denial of any request',\n",
       "  'bill_num': 'A4102',\n",
       "  'score': '0.39'},\n",
       " {'bill_name': 'Directs the commissioners of health and environmental conservation to study and develop a long term strategy to encourage outdoor environmental education and recreation',\n",
       "  'bill_num': 'S7806',\n",
       "  'score': '0.35'}]"
      ]
     },
     "execution_count": 94,
     "metadata": {},
     "output_type": "execute_result"
    }
   ],
   "source": [
    "display_bills[0:10]"
   ]
  },
  {
   "cell_type": "code",
   "execution_count": 7,
   "metadata": {
    "collapsed": false
   },
   "outputs": [
    {
     "name": "stderr",
     "output_type": "stream",
     "text": [
      "/Users/Joel/anaconda/envs/insight/lib/python2.7/site-packages/matplotlib/font_manager.py:273: UserWarning: Matplotlib is building the font cache using fc-list. This may take a moment.\n",
      "  warnings.warn('Matplotlib is building the font cache using fc-list. This may take a moment.')\n"
     ]
    }
   ],
   "source": [
    "import matplotlib.pyplot as plt"
   ]
  },
  {
   "cell_type": "code",
   "execution_count": null,
   "metadata": {
    "collapsed": true
   },
   "outputs": [],
   "source": [
    "#query_results.plot(kind='barh', legend=None, figsize=figsize)\n",
    "plt.ylabel(\"Unique Words\", size=label_size)\n",
    "plt.xlabel(\"Word Count\", size=label_size)\n",
    "plt.yticks(size=label_size)\n",
    "plt.xticks(size=label_size)\n",
    "plt.title(\"Word Counts for Top 20 Words in Bills for 114th U.S. Congress\", size=label_size)"
   ]
  },
  {
   "cell_type": "code",
   "execution_count": 11,
   "metadata": {
    "collapsed": false
   },
   "outputs": [
    {
     "data": {
      "text/plain": [
       "<matplotlib.axes._subplots.AxesSubplot at 0x1191e6810>"
      ]
     },
     "execution_count": 11,
     "metadata": {},
     "output_type": "execute_result"
    },
    {
     "data": {
      "image/png": "[encoded data removed]",
      "text/plain": [
       "<matplotlib.figure.Figure at 0x118c81850>"
      ]
     },
     "metadata": {},
     "output_type": "display_data"
    }
   ],
   "source": [
    "%matplotlib inline\n",
    "query_results.plot(kind='hist', legend=None)"
   ]
  },
  {
   "cell_type": "code",
   "execution_count": 37,
   "metadata": {
    "collapsed": false
   },
   "outputs": [
    {
     "data": {
      "text/plain": [
       "<matplotlib.figure.Figure at 0x11a1baf50>"
      ]
     },
     "metadata": {},
     "output_type": "display_data"
    },
    {
     "data": {
      "image/png": "[encoded data removed]",
      "text/plain": [
       "<matplotlib.figure.Figure at 0x119f0af90>"
      ]
     },
     "metadata": {},
     "output_type": "display_data"
    }
   ],
   "source": [
    "from matplotlib.figure import Figure\n",
    "import matplotlib.pyplot as plt\n",
    "import StringIO\n",
    "import base64\n",
    "from matplotlib.backends.backend_agg import FigureCanvasAgg #canvas\n",
    "\n",
    "plt.clf()\n",
    "fig=Figure()\n",
    "ax=fig.add_subplot(111)\n",
    "query_results.plot(kind='hist', legend=None)\n",
    "#canvas=FigureCanvas(fig)\n",
    "canvas = FigureCanvasAgg(fig) #create the canvas\n",
    "png_output = StringIO.StringIO()\n",
    "canvas.print_png(png_output)\n",
    "png_output = base64.standard_b64encode(png_output.getvalue())"
   ]
  },
  {
   "cell_type": "code",
   "execution_count": 38,
   "metadata": {
    "collapsed": false
   },
   "outputs": [
    {
     "data": {
      "text/plain": [
       "'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'"
      ]
     },
     "execution_count": 38,
     "metadata": {},
     "output_type": "execute_result"
    }
   ],
   "source": [
    "png_output"
   ]
  },
  {
   "cell_type": "code",
   "execution_count": 22,
   "metadata": {
    "collapsed": true
   },
   "outputs": [],
   "source": [
    "import matplotlib"
   ]
  },
  {
   "cell_type": "code",
   "execution_count": null,
   "metadata": {
    "collapsed": true
   },
   "outputs": [],
   "source": [
    "matplotlib.pyplot.FigureCanvasBase."
   ]
  },
  {
   "cell_type": "code",
   "execution_count": 30,
   "metadata": {
    "collapsed": false
   },
   "outputs": [
    {
     "ename": "ImportError",
     "evalue": "No module named wx",
     "output_type": "error",
     "traceback": [
      "\u001b[0;31m---------------------------------------------------------------------------\u001b[0m",
      "\u001b[0;31mImportError\u001b[0m                               Traceback (most recent call last)",
      "\u001b[0;32m<ipython-input-30-a4829ba70cf0>\u001b[0m in \u001b[0;36m<module>\u001b[0;34m()\u001b[0m\n\u001b[0;32m----> 1\u001b[0;31m \u001b[0;32mimport\u001b[0m \u001b[0mwx\u001b[0m\u001b[0;34m\u001b[0m\u001b[0m\n\u001b[0m",
      "\u001b[0;31mImportError\u001b[0m: No module named wx"
     ]
    }
   ],
   "source": [
    "import wx"
   ]
  },
  {
   "cell_type": "code",
   "execution_count": null,
   "metadata": {
    "collapsed": true
   },
   "outputs": [],
   "source": []
  }
 ],
 "metadata": {
  "anaconda-cloud": {},
  "kernelspec": {
   "display_name": "Python [insight]",
   "language": "python",
   "name": "Python [insight]"
  },
  "language_info": {
   "codemirror_mode": {
    "name": "ipython",
    "version": 2
   },
   "file_extension": ".py",
   "mimetype": "text/x-python",
   "name": "python",
   "nbconvert_exporter": "python",
   "pygments_lexer": "ipython2",
   "version": "2.7.12"
  }
 },
 "nbformat": 4,
 "nbformat_minor": 0
}
